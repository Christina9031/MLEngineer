{
 "cells": [
  {
   "cell_type": "code",
   "execution_count": 1,
   "id": "99942e35",
   "metadata": {},
   "outputs": [],
   "source": [
    "import numpy as np\n",
    "import pandas as pd\n",
    "import matplotlib\n",
    "import matplotlib.pyplot as plt\n",
    "import seaborn as sns\n",
    "import os\n",
    "\n",
    "# Preprocessing\n",
    "from sklearn.model_selection import train_test_split\n",
    "from sklearn.preprocessing import StandardScaler\n",
    "from sklearn.preprocessing import OneHotEncoder\n",
    "\n",
    "\n",
    "import boto3\n",
    "import sagemaker"
   ]
  },
  {
   "cell_type": "code",
   "execution_count": 2,
   "id": "ede0a53e",
   "metadata": {},
   "outputs": [],
   "source": [
    "# session and role\n",
    "sagemaker_session = sagemaker.Session()\n",
    "role = sagemaker.get_execution_role\n",
    "\n",
    "# create an S3 bucket\n",
    "bucket = sagemaker_session.default_bucket()# session and role"
   ]
  },
  {
   "cell_type": "code",
   "execution_count": 3,
   "id": "41c09059",
   "metadata": {},
   "outputs": [],
   "source": [
    "# Read in the data\n",
    "\n",
    "kdd = pd.read_csv(\"kddcup.data_10_percent\")"
   ]
  },
  {
   "cell_type": "code",
   "execution_count": 4,
   "id": "acddc43d",
   "metadata": {},
   "outputs": [],
   "source": [
    "col_names = [\"duration\",\"protocol_type\",\"service\",\"flag\",\"src_bytes\",\"dst_bytes\",\"land\",\"wrong_fragment\",\n",
    "             \"urgent\",\"hot\",\"num_failed_logins\",\"logged_in\",\"num_compromised\",\n",
    "             \"root_shell\",\"su_attempted\",\"num_root\",\"num_file_creations\",\n",
    "             \"num_shells\",\"num_access_files\",\"num_outbound_cmds\",\n",
    "             \"is_hot_login\",\"is_guest_login\",\"count\",\"srv_count\",\"serror_rate\",\n",
    "             \"srv_serror_rate\",\"rerror_rate\",\"srv_rerror_rate\",\"same_srv_rate\",\n",
    "             \"diff_srv_rate\",\"srv_diff_host_rate\",\"dst_host_count\",\"dst_host_srv_count\",\n",
    "             \"dst_host_same_srv_rate\",\"dst_host_diff_srv_rate\",\"dst_host_same_src_port_rate\",\n",
    "             \"dst_host_srv_diff_host_rate\",\"dst_host_serror_rate\",\"dst_host_srv_serror_rate\",\n",
    "             \"dst_host_rerror_rate\",\"dst_host_srv_rerror_rate\",\"target\"]\n",
    "\n",
    "kdd.columns = col_names"
   ]
  },
  {
   "cell_type": "code",
   "execution_count": 5,
   "id": "d47e176e",
   "metadata": {},
   "outputs": [
    {
     "data": {
      "text/html": [
       "<div>\n",
       "<style scoped>\n",
       "    .dataframe tbody tr th:only-of-type {\n",
       "        vertical-align: middle;\n",
       "    }\n",
       "\n",
       "    .dataframe tbody tr th {\n",
       "        vertical-align: top;\n",
       "    }\n",
       "\n",
       "    .dataframe thead th {\n",
       "        text-align: right;\n",
       "    }\n",
       "</style>\n",
       "<table border=\"1\" class=\"dataframe\">\n",
       "  <thead>\n",
       "    <tr style=\"text-align: right;\">\n",
       "      <th></th>\n",
       "      <th>duration</th>\n",
       "      <th>protocol_type</th>\n",
       "      <th>service</th>\n",
       "      <th>flag</th>\n",
       "      <th>src_bytes</th>\n",
       "      <th>dst_bytes</th>\n",
       "      <th>land</th>\n",
       "      <th>wrong_fragment</th>\n",
       "      <th>urgent</th>\n",
       "      <th>hot</th>\n",
       "      <th>...</th>\n",
       "      <th>dst_host_srv_count</th>\n",
       "      <th>dst_host_same_srv_rate</th>\n",
       "      <th>dst_host_diff_srv_rate</th>\n",
       "      <th>dst_host_same_src_port_rate</th>\n",
       "      <th>dst_host_srv_diff_host_rate</th>\n",
       "      <th>dst_host_serror_rate</th>\n",
       "      <th>dst_host_srv_serror_rate</th>\n",
       "      <th>dst_host_rerror_rate</th>\n",
       "      <th>dst_host_srv_rerror_rate</th>\n",
       "      <th>target</th>\n",
       "    </tr>\n",
       "  </thead>\n",
       "  <tbody>\n",
       "    <tr>\n",
       "      <th>0</th>\n",
       "      <td>0</td>\n",
       "      <td>tcp</td>\n",
       "      <td>http</td>\n",
       "      <td>SF</td>\n",
       "      <td>239</td>\n",
       "      <td>486</td>\n",
       "      <td>0</td>\n",
       "      <td>0</td>\n",
       "      <td>0</td>\n",
       "      <td>0</td>\n",
       "      <td>...</td>\n",
       "      <td>19</td>\n",
       "      <td>1.0</td>\n",
       "      <td>0.0</td>\n",
       "      <td>0.05</td>\n",
       "      <td>0.0</td>\n",
       "      <td>0.0</td>\n",
       "      <td>0.0</td>\n",
       "      <td>0.0</td>\n",
       "      <td>0.0</td>\n",
       "      <td>normal.</td>\n",
       "    </tr>\n",
       "    <tr>\n",
       "      <th>1</th>\n",
       "      <td>0</td>\n",
       "      <td>tcp</td>\n",
       "      <td>http</td>\n",
       "      <td>SF</td>\n",
       "      <td>235</td>\n",
       "      <td>1337</td>\n",
       "      <td>0</td>\n",
       "      <td>0</td>\n",
       "      <td>0</td>\n",
       "      <td>0</td>\n",
       "      <td>...</td>\n",
       "      <td>29</td>\n",
       "      <td>1.0</td>\n",
       "      <td>0.0</td>\n",
       "      <td>0.03</td>\n",
       "      <td>0.0</td>\n",
       "      <td>0.0</td>\n",
       "      <td>0.0</td>\n",
       "      <td>0.0</td>\n",
       "      <td>0.0</td>\n",
       "      <td>normal.</td>\n",
       "    </tr>\n",
       "    <tr>\n",
       "      <th>2</th>\n",
       "      <td>0</td>\n",
       "      <td>tcp</td>\n",
       "      <td>http</td>\n",
       "      <td>SF</td>\n",
       "      <td>219</td>\n",
       "      <td>1337</td>\n",
       "      <td>0</td>\n",
       "      <td>0</td>\n",
       "      <td>0</td>\n",
       "      <td>0</td>\n",
       "      <td>...</td>\n",
       "      <td>39</td>\n",
       "      <td>1.0</td>\n",
       "      <td>0.0</td>\n",
       "      <td>0.03</td>\n",
       "      <td>0.0</td>\n",
       "      <td>0.0</td>\n",
       "      <td>0.0</td>\n",
       "      <td>0.0</td>\n",
       "      <td>0.0</td>\n",
       "      <td>normal.</td>\n",
       "    </tr>\n",
       "    <tr>\n",
       "      <th>3</th>\n",
       "      <td>0</td>\n",
       "      <td>tcp</td>\n",
       "      <td>http</td>\n",
       "      <td>SF</td>\n",
       "      <td>217</td>\n",
       "      <td>2032</td>\n",
       "      <td>0</td>\n",
       "      <td>0</td>\n",
       "      <td>0</td>\n",
       "      <td>0</td>\n",
       "      <td>...</td>\n",
       "      <td>49</td>\n",
       "      <td>1.0</td>\n",
       "      <td>0.0</td>\n",
       "      <td>0.02</td>\n",
       "      <td>0.0</td>\n",
       "      <td>0.0</td>\n",
       "      <td>0.0</td>\n",
       "      <td>0.0</td>\n",
       "      <td>0.0</td>\n",
       "      <td>normal.</td>\n",
       "    </tr>\n",
       "    <tr>\n",
       "      <th>4</th>\n",
       "      <td>0</td>\n",
       "      <td>tcp</td>\n",
       "      <td>http</td>\n",
       "      <td>SF</td>\n",
       "      <td>217</td>\n",
       "      <td>2032</td>\n",
       "      <td>0</td>\n",
       "      <td>0</td>\n",
       "      <td>0</td>\n",
       "      <td>0</td>\n",
       "      <td>...</td>\n",
       "      <td>59</td>\n",
       "      <td>1.0</td>\n",
       "      <td>0.0</td>\n",
       "      <td>0.02</td>\n",
       "      <td>0.0</td>\n",
       "      <td>0.0</td>\n",
       "      <td>0.0</td>\n",
       "      <td>0.0</td>\n",
       "      <td>0.0</td>\n",
       "      <td>normal.</td>\n",
       "    </tr>\n",
       "  </tbody>\n",
       "</table>\n",
       "<p>5 rows × 42 columns</p>\n",
       "</div>"
      ],
      "text/plain": [
       "   duration protocol_type service flag  src_bytes  dst_bytes  land  \\\n",
       "0         0           tcp    http   SF        239        486     0   \n",
       "1         0           tcp    http   SF        235       1337     0   \n",
       "2         0           tcp    http   SF        219       1337     0   \n",
       "3         0           tcp    http   SF        217       2032     0   \n",
       "4         0           tcp    http   SF        217       2032     0   \n",
       "\n",
       "   wrong_fragment  urgent  hot  ...  dst_host_srv_count  \\\n",
       "0               0       0    0  ...                  19   \n",
       "1               0       0    0  ...                  29   \n",
       "2               0       0    0  ...                  39   \n",
       "3               0       0    0  ...                  49   \n",
       "4               0       0    0  ...                  59   \n",
       "\n",
       "   dst_host_same_srv_rate  dst_host_diff_srv_rate  \\\n",
       "0                     1.0                     0.0   \n",
       "1                     1.0                     0.0   \n",
       "2                     1.0                     0.0   \n",
       "3                     1.0                     0.0   \n",
       "4                     1.0                     0.0   \n",
       "\n",
       "   dst_host_same_src_port_rate  dst_host_srv_diff_host_rate  \\\n",
       "0                         0.05                          0.0   \n",
       "1                         0.03                          0.0   \n",
       "2                         0.03                          0.0   \n",
       "3                         0.02                          0.0   \n",
       "4                         0.02                          0.0   \n",
       "\n",
       "   dst_host_serror_rate  dst_host_srv_serror_rate  dst_host_rerror_rate  \\\n",
       "0                   0.0                       0.0                   0.0   \n",
       "1                   0.0                       0.0                   0.0   \n",
       "2                   0.0                       0.0                   0.0   \n",
       "3                   0.0                       0.0                   0.0   \n",
       "4                   0.0                       0.0                   0.0   \n",
       "\n",
       "   dst_host_srv_rerror_rate   target  \n",
       "0                       0.0  normal.  \n",
       "1                       0.0  normal.  \n",
       "2                       0.0  normal.  \n",
       "3                       0.0  normal.  \n",
       "4                       0.0  normal.  \n",
       "\n",
       "[5 rows x 42 columns]"
      ]
     },
     "execution_count": 5,
     "metadata": {},
     "output_type": "execute_result"
    }
   ],
   "source": [
    "kdd.head()"
   ]
  },
  {
   "cell_type": "markdown",
   "id": "0f5c2ee6",
   "metadata": {},
   "source": [
    "## Creating and Preparing Training, Validation & Test Set"
   ]
  },
  {
   "cell_type": "code",
   "execution_count": 6,
   "id": "c10e2b59",
   "metadata": {},
   "outputs": [],
   "source": [
    "train_set, test_set = train_test_split(kdd, test_size=.3, random_state=42)\n",
    "val_set, test_set = train_test_split(test_set, test_size=.5, random_state=42)"
   ]
  },
  {
   "cell_type": "code",
   "execution_count": 7,
   "id": "1a7cc2f9",
   "metadata": {},
   "outputs": [],
   "source": [
    "def intrude_attack(train_set, intrusion_rate= 0.01):\n",
    "    \n",
    "    train_normal = train_set.loc[train_set[\"target\"] == 'normal.']\n",
    "    train_attack = train_set.loc[train_set[\"target\"] != 'normal.']\n",
    "\n",
    "    n_attacks = round((len(train_normal)/100)*intrusion_rate)\n",
    "    \n",
    "    train_attack = train_attack.sample(n_attacks)\n",
    "    \n",
    "    train_set_noise = pd.concat([train_set, train_attack], axis = 0)\n",
    "    \n",
    "    return train_set_noise.sample(frac=1).drop('target', axis=1)"
   ]
  },
  {
   "cell_type": "code",
   "execution_count": 8,
   "id": "22610fda",
   "metadata": {},
   "outputs": [],
   "source": [
    "intrude_attack_rate = 0.01\n",
    "X_train = intrude_attack(train_set)\n",
    "\n",
    "y_val = val_set['target'].copy()\n",
    "y_val = y_val.apply(lambda x: 0 if x == 'normal.' else 1) #0: normal, 1: anomaly, RCF assumption\n",
    "X_val = val_set.drop('target', axis=1)\n",
    "\n",
    "y_test = test_set['target'].copy()\n",
    "y_test = y_test.apply(lambda x: 0 if x == 'normal.' else 1) #0: normal, 1: anomaly, RCF assumption\n",
    "X_test = test_set.drop('target', axis=1)"
   ]
  },
  {
   "cell_type": "code",
   "execution_count": 9,
   "id": "e9f4a1e4",
   "metadata": {},
   "outputs": [
    {
     "name": "stdout",
     "output_type": "stream",
     "text": [
      "X_train dimension: (345821, 41)\n",
      "X_val dimension: (74103, 41)\n",
      "y_val dimension: (74103,)\n",
      "X_test dimension: (74103, 41)\n",
      "y_test dimension: (74103,)\n",
      "Train: 70 %, Val: 15 %, Test: 15 %\n"
     ]
    }
   ],
   "source": [
    "print(\"X_train dimension: \" + str(X_train.shape))\n",
    "print(\"X_val dimension: \" + str(X_val.shape))\n",
    "print(\"y_val dimension: \" + str(y_val.shape))\n",
    "print(\"X_test dimension: \" + str(X_test.shape))\n",
    "print(\"y_test dimension: \" + str(y_test.shape))\n",
    "\n",
    "overall_length= X_train.shape[0]+X_test.shape[0]+X_val.shape[0]\n",
    "\n",
    "print(\"Train: {} %, Val: {} %, Test: {} %\".format(round(X_train.shape[0]/overall_length*100), round(X_val.shape[0]/overall_length*100), round(X_test.shape[0]/overall_length*100)))"
   ]
  },
  {
   "cell_type": "markdown",
   "id": "2820e812",
   "metadata": {},
   "source": [
    "### Handling categorical data"
   ]
  },
  {
   "cell_type": "code",
   "execution_count": 10,
   "id": "fa57a9ef",
   "metadata": {},
   "outputs": [
    {
     "name": "stdout",
     "output_type": "stream",
     "text": [
      "protocol_type\n",
      "-----\n",
      "6319       tcp\n",
      "173928    icmp\n",
      "148334     udp\n",
      "Name: protocol_type, dtype: object\n",
      "--------------------\n",
      "service\n",
      "-----\n",
      "6319         http\n",
      "91786       other\n",
      "60119     private\n",
      "173928      ecr_i\n",
      "50873        smtp\n",
      "           ...   \n",
      "461550     Z39_50\n",
      "70504      systat\n",
      "482842        X11\n",
      "142415      tim_i\n",
      "140583     tftp_u\n",
      "Name: service, Length: 64, dtype: object\n",
      "--------------------\n",
      "flag\n",
      "-----\n",
      "6319          SF\n",
      "91786        REJ\n",
      "60119         S0\n",
      "144729      RSTR\n",
      "478539      RSTO\n",
      "136506        S1\n",
      "43142         SH\n",
      "91621         S2\n",
      "370279       OTH\n",
      "28187         S3\n",
      "42069     RSTOS0\n",
      "Name: flag, dtype: object\n",
      "--------------------\n"
     ]
    }
   ],
   "source": [
    "# Take a view on our categorical data\n",
    "X_train_cat = X_train.select_dtypes(include=object)\n",
    "\n",
    "for i in range(0,len(X_train_cat.columns)):\n",
    "    print(X_train_cat.columns[i])\n",
    "    print(\"-\"*5)\n",
    "    print(X_train_cat[X_train_cat.columns[i]].drop_duplicates())\n",
    "    print(\"-\"*20)"
   ]
  },
  {
   "cell_type": "code",
   "execution_count": 11,
   "id": "0306f0db",
   "metadata": {},
   "outputs": [],
   "source": [
    "cat_encoder = OneHotEncoder(handle_unknown='ignore', sparse=False) \n",
    "\n",
    "cat_features = X_train.select_dtypes(include=object).columns\n",
    "\n",
    "j=0\n",
    "for i in cat_features:\n",
    "    \n",
    "    # one-hot encoding\n",
    "    cat_encoder = cat_encoder.fit(X_train[i].values.reshape(-1,1))\n",
    "    X_train_cat_i= cat_encoder.transform(X_train[i].values.reshape(-1,1))\n",
    "    X_val_cat_i = cat_encoder.transform(X_val[i].values.reshape(-1,1))\n",
    "    X_test_cat_i = cat_encoder.transform(X_test[i].values.reshape(-1,1))\n",
    "    \n",
    "    # transforming to DataFrame\n",
    "    X_train_cat_i = pd.DataFrame(X_train_cat_i, columns = cat_encoder.categories_, index = X_train.index)\n",
    "    X_val_cat_i = pd.DataFrame(X_val_cat_i, columns = cat_encoder.categories_, index = X_val.index)\n",
    "    X_test_cat_i = pd.DataFrame(X_test_cat_i, columns = cat_encoder.categories_, index = X_test.index)\n",
    "    \n",
    "    if j==0:\n",
    "        X_train_cat = X_train_cat_i\n",
    "        X_val_cat = X_val_cat_i\n",
    "        X_test_cat = X_test_cat_i\n",
    "    else:\n",
    "        X_train_cat = pd.concat([X_train_cat, X_train_cat_i], axis = 1)\n",
    "        X_val_cat = pd.concat([X_val_cat, X_val_cat_i], axis = 1)\n",
    "        X_test_cat = pd.concat([X_test_cat, X_test_cat_i], axis = 1)\n",
    "    j=j+1\n",
    "    \n",
    "X_train_cat_i = None\n",
    "X_val_cat_i = None\n",
    "X_test_cat_i = None"
   ]
  },
  {
   "cell_type": "markdown",
   "id": "ad9087cb",
   "metadata": {},
   "source": [
    "### Normalize data"
   ]
  },
  {
   "cell_type": "code",
   "execution_count": 12,
   "id": "5b168083",
   "metadata": {},
   "outputs": [],
   "source": [
    "# Select numerical data, which need to be normalized\n",
    "X_train_num = X_train.select_dtypes(exclude=object)\n",
    "X_val_num = X_val.select_dtypes(exclude=object)\n",
    "X_test_num = X_test.select_dtypes(exclude=object)\n",
    "\n",
    "scaler = StandardScaler()\n",
    "\n",
    "X_train_norm = scaler.fit_transform(X_train_num)\n",
    "X_train_norm = pd.DataFrame(X_train_norm, columns = X_train_num.columns, index = X_train_num.index)\n",
    "\n",
    "X_val_norm = scaler.transform(X_val_num)\n",
    "X_val_norm = pd.DataFrame(X_val_norm, columns = X_val_num.columns, index = X_val_num.index)\n",
    "\n",
    "X_test_norm = scaler.transform(X_test_num)\n",
    "X_test_norm = pd.DataFrame(X_test_norm, columns = X_test_num.columns, index = X_test_num.index)\n",
    "\n",
    "X_train_num = None\n",
    "X_val_num = None\n",
    "X_test_num = None\n"
   ]
  },
  {
   "cell_type": "markdown",
   "id": "2da0d2a5",
   "metadata": {},
   "source": [
    "## Creating Final Data Files"
   ]
  },
  {
   "cell_type": "markdown",
   "id": "aab0eecf",
   "metadata": {},
   "source": [
    "Input Random Cut Forest Algorithm: <br>\n",
    "test data, text/csv format, first column represents the anomaly label: \"1\" = anomalous and \"0\" = normal"
   ]
  },
  {
   "cell_type": "code",
   "execution_count": 13,
   "id": "956f8399",
   "metadata": {},
   "outputs": [],
   "source": [
    "  \n",
    "# Combining all the transformed data\n",
    "X_train = None\n",
    "X_val = None\n",
    "X_test = None\n",
    "\n",
    "X_train = pd.concat([X_train_norm, X_train_cat], axis=1)\n",
    "X_val = pd.concat([X_val_norm, X_val_cat], axis=1)\n",
    "X_test = pd.concat([X_test_norm, X_test_cat], axis=1)\n",
    "\n",
    "def make_csv(X, y, filename, data_dir):\n",
    "    '''Merges features and labels and converts them into one csv file with labels in the first column.\n",
    "       :param x: Data features\n",
    "       :param y: Data labels\n",
    "       :param file_name: Name of csv file, ex. 'train.csv'\n",
    "       :param data_dir: The directory where files will be saved\n",
    "       '''\n",
    "    # make data dir, if it does not exist\n",
    "    if not os.path.exists(data_dir):\n",
    "        os.makedirs(data_dir)\n",
    "    \n",
    "    if y is not None:\n",
    "        pd.DataFrame(y).join(pd.DataFrame(X)).to_csv(os.path.join(data_dir, filename), header=False, index=False)\n",
    "    else:\n",
    "        X.to_csv(os.path.join(data_dir, filename), header=False, index=False)\n",
    "\n",
    "    # nothing is returned, but a print statement indicates that the function has run\n",
    "    print('Path created: '+str(data_dir)+'/'+str(filename))"
   ]
  },
  {
   "cell_type": "code",
   "execution_count": 14,
   "id": "d2cb30bd",
   "metadata": {},
   "outputs": [
    {
     "name": "stdout",
     "output_type": "stream",
     "text": [
      "Path created: data/train.csv\n"
     ]
    }
   ],
   "source": [
    "make_csv(X_train, None, 'train.csv', 'data')"
   ]
  },
  {
   "cell_type": "code",
   "execution_count": 15,
   "id": "dc7651f1",
   "metadata": {},
   "outputs": [],
   "source": [
    "# should be the name of directory you created to save your features data\n",
    "data_dir = 'data'\n",
    "\n",
    "# set prefix, a descriptive name for a directory  \n",
    "prefix = 'anomaly'\n",
    "\n",
    "# upload all data to S3\n",
    "train_location = sagemaker_session.upload_data(os.path.join(data_dir, 'train.csv'), key_prefix=prefix)"
   ]
  },
  {
   "cell_type": "code",
   "execution_count": 16,
   "id": "f7c5e36d",
   "metadata": {},
   "outputs": [],
   "source": [
    "os.remove(os.path.join('data', 'train.csv'))"
   ]
  },
  {
   "cell_type": "code",
   "execution_count": 17,
   "id": "032321a6",
   "metadata": {},
   "outputs": [
    {
     "name": "stdout",
     "output_type": "stream",
     "text": [
      "Path created: data/val.csv\n"
     ]
    }
   ],
   "source": [
    "make_csv(X_val, y_val, 'val.csv', 'data')"
   ]
  },
  {
   "cell_type": "code",
   "execution_count": 18,
   "id": "ba292082",
   "metadata": {},
   "outputs": [],
   "source": [
    "val_location = sagemaker_session.upload_data(os.path.join(data_dir, 'val.csv'), key_prefix=prefix)"
   ]
  },
  {
   "cell_type": "code",
   "execution_count": 19,
   "id": "b2e57d2c",
   "metadata": {},
   "outputs": [],
   "source": [
    "os.remove(os.path.join('data', 'val.csv'))"
   ]
  },
  {
   "cell_type": "code",
   "execution_count": 20,
   "id": "b8236a6d",
   "metadata": {},
   "outputs": [
    {
     "name": "stdout",
     "output_type": "stream",
     "text": [
      "Path created: data/test.csv\n"
     ]
    }
   ],
   "source": [
    "make_csv(X_test, y_test, 'test.csv', 'data')"
   ]
  },
  {
   "cell_type": "code",
   "execution_count": 21,
   "id": "d719f10f",
   "metadata": {},
   "outputs": [],
   "source": [
    "test_location = sagemaker_session.upload_data(os.path.join(data_dir, 'test.csv'), key_prefix=prefix)"
   ]
  },
  {
   "cell_type": "code",
   "execution_count": 22,
   "id": "38e09c19",
   "metadata": {},
   "outputs": [],
   "source": [
    "os.remove(os.path.join('data', 'test.csv'))"
   ]
  },
  {
   "cell_type": "code",
   "execution_count": 23,
   "id": "d7b8a906",
   "metadata": {},
   "outputs": [],
   "source": [
    "X_train.to_pickle('X_train.pkl')\n",
    "X_val.to_pickle('X_val.pkl')\n",
    "y_val.to_pickle('y_val.pkl')\n",
    "X_test.to_pickle('X_test.pkl')\n",
    "y_test.to_pickle('y_test.pkl')"
   ]
  },
  {
   "cell_type": "code",
   "execution_count": 24,
   "id": "06fd16b8",
   "metadata": {},
   "outputs": [
    {
     "name": "stdout",
     "output_type": "stream",
     "text": [
      "s3://sagemaker-us-east-1-517714493426/anomaly/test.csv\n"
     ]
    }
   ],
   "source": [
    "print(test_location)"
   ]
  },
  {
   "cell_type": "code",
   "execution_count": null,
   "id": "bdb3fe3f",
   "metadata": {},
   "outputs": [],
   "source": []
  }
 ],
 "metadata": {
  "kernelspec": {
   "display_name": "conda_python3",
   "language": "python",
   "name": "conda_python3"
  },
  "language_info": {
   "codemirror_mode": {
    "name": "ipython",
    "version": 3
   },
   "file_extension": ".py",
   "mimetype": "text/x-python",
   "name": "python",
   "nbconvert_exporter": "python",
   "pygments_lexer": "ipython3",
   "version": "3.6.13"
  }
 },
 "nbformat": 4,
 "nbformat_minor": 5
}
