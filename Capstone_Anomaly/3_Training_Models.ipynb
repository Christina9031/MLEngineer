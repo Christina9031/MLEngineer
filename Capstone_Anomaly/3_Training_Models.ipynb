{
 "cells": [
  {
   "cell_type": "code",
   "execution_count": 1,
   "id": "442d3421",
   "metadata": {},
   "outputs": [],
   "source": [
    "import pandas as pd\n",
    "import boto3\n",
    "import sagemaker\n",
    "import os"
   ]
  },
  {
   "cell_type": "code",
   "execution_count": 2,
   "id": "3dbcabdf",
   "metadata": {},
   "outputs": [],
   "source": [
    "# session and role\n",
    "sagemaker_session = sagemaker.Session()\n",
    "role = sagemaker.get_execution_role()\n",
    "\n",
    "# create an S3 bucket\n",
    "bucket = sagemaker_session.default_bucket()"
   ]
  },
  {
   "cell_type": "markdown",
   "id": "68a06fba",
   "metadata": {},
   "source": [
    "## Check if data is available at S3"
   ]
  },
  {
   "cell_type": "code",
   "execution_count": 3,
   "id": "a98de313",
   "metadata": {},
   "outputs": [
    {
     "name": "stdout",
     "output_type": "stream",
     "text": [
      "anomaly/RandomCutForest-2021-06-22-05-30-51-789/.amazon.manifest\n",
      "anomaly/RandomCutForest-2021-06-22-05-30-51-789/matrix_0.pbr\n",
      "anomaly/output/randomcutforest-2021-06-22-05-37-15-577/output/model.tar.gz\n",
      "anomaly/output/randomcutforest-2021-06-22-05-37-15-577/profiler-output/framework/training_job_end.ts\n",
      "anomaly/output/randomcutforest-2021-06-22-05-37-15-577/profiler-output/system/incremental/2021062205/1624340340.algo-1.json\n",
      "anomaly/output/randomcutforest-2021-06-22-05-37-15-577/profiler-output/system/incremental/2021062205/1624340400.algo-1.json\n",
      "anomaly/output/randomcutforest-2021-06-22-05-37-15-577/profiler-output/system/incremental/2021062205/1624340460.algo-1.json\n",
      "anomaly/output/randomcutforest-2021-06-22-05-37-15-577/profiler-output/system/incremental/2021062205/1624340520.algo-1.json\n",
      "anomaly/output/randomcutforest-2021-06-22-05-37-15-577/profiler-output/system/training_job_end.ts\n",
      "anomaly/output/randomcutforest-2021-06-22-05-37-15-577/rule-output/ProfilerReport-1624340235/profiler-output/profiler-report.html\n",
      "anomaly/output/randomcutforest-2021-06-22-05-37-15-577/rule-output/ProfilerReport-1624340235/profiler-output/profiler-report.ipynb\n",
      "anomaly/output/randomcutforest-2021-06-22-05-37-15-577/rule-output/ProfilerReport-1624340235/profiler-output/profiler-reports/BatchSize.json\n",
      "anomaly/output/randomcutforest-2021-06-22-05-37-15-577/rule-output/ProfilerReport-1624340235/profiler-output/profiler-reports/CPUBottleneck.json\n",
      "anomaly/output/randomcutforest-2021-06-22-05-37-15-577/rule-output/ProfilerReport-1624340235/profiler-output/profiler-reports/Dataloader.json\n",
      "anomaly/output/randomcutforest-2021-06-22-05-37-15-577/rule-output/ProfilerReport-1624340235/profiler-output/profiler-reports/GPUMemoryIncrease.json\n",
      "anomaly/output/randomcutforest-2021-06-22-05-37-15-577/rule-output/ProfilerReport-1624340235/profiler-output/profiler-reports/IOBottleneck.json\n",
      "anomaly/output/randomcutforest-2021-06-22-05-37-15-577/rule-output/ProfilerReport-1624340235/profiler-output/profiler-reports/LoadBalancing.json\n",
      "anomaly/output/randomcutforest-2021-06-22-05-37-15-577/rule-output/ProfilerReport-1624340235/profiler-output/profiler-reports/LowGPUUtilization.json\n",
      "anomaly/output/randomcutforest-2021-06-22-05-37-15-577/rule-output/ProfilerReport-1624340235/profiler-output/profiler-reports/MaxInitializationTime.json\n",
      "anomaly/output/randomcutforest-2021-06-22-05-37-15-577/rule-output/ProfilerReport-1624340235/profiler-output/profiler-reports/OverallFrameworkMetrics.json\n",
      "anomaly/output/randomcutforest-2021-06-22-05-37-15-577/rule-output/ProfilerReport-1624340235/profiler-output/profiler-reports/OverallSystemUsage.json\n",
      "anomaly/output/randomcutforest-2021-06-22-05-37-15-577/rule-output/ProfilerReport-1624340235/profiler-output/profiler-reports/StepOutlier.json\n",
      "anomaly/test.csv\n",
      "anomaly/train.csv\n",
      "anomaly/val.csv\n"
     ]
    }
   ],
   "source": [
    "# set prefix, a descriptive name for a directory  \n",
    "prefix = 'anomaly'\n",
    "\n",
    "for obj in boto3.resource('s3').Bucket(bucket).objects.all():\n",
    "    print(obj.key)"
   ]
  },
  {
   "cell_type": "code",
   "execution_count": 4,
   "id": "218aaa15",
   "metadata": {},
   "outputs": [],
   "source": [
    "# set locations from variables from data preperation notebook\n",
    "train_location = 's3://sagemaker-us-east-1-517714493426/anomaly/train.csv'\n",
    "val_location = 's3://sagemaker-us-east-1-517714493426/anomaly/val.csv'\n",
    "test_location = 's3://sagemaker-us-east-1-517714493426/anomaly/test.csv'"
   ]
  },
  {
   "cell_type": "code",
   "execution_count": 5,
   "id": "36ec16ad",
   "metadata": {},
   "outputs": [
    {
     "name": "stdout",
     "output_type": "stream",
     "text": [
      "sagemaker-us-east-1-517714493426\n"
     ]
    }
   ],
   "source": [
    "print(bucket)"
   ]
  },
  {
   "cell_type": "markdown",
   "id": "e5ac07fd",
   "metadata": {},
   "source": [
    "## Train a Model with Sagemaker built-in function Random Cut Forests"
   ]
  },
  {
   "cell_type": "code",
   "execution_count": null,
   "id": "acfbaf09",
   "metadata": {},
   "outputs": [],
   "source": [
    "from sagemaker import RandomCutForest\n",
    "\n",
    "prefix = 'anomaly'\n",
    "\n",
    "# specify general training job information\n",
    "rcf = RandomCutForest(\n",
    "    role=role,\n",
    "    instance_count=1,\n",
    "    instance_type=\"ml.m4.xlarge\",\n",
    "    data_location=f\"s3://{bucket}/{prefix}/\",\n",
    "    output_path=f\"s3://{bucket}/{prefix}/output\",\n",
    "    num_samples_per_tree=512,\n",
    "    num_trees=50,\n",
    ")\n",
    "\n",
    "#https://sagemaker-examples.readthedocs.io/en/latest/introduction_to_amazon_algorithms/random_cut_forest/random_cut_forest.html\n",
    "X_data = pd.read_pickle('X_train.pkl')\n",
    "\n",
    "rcf.fit(rcf.record_set(X_data.to_numpy().reshape(-1, 1)))"
   ]
  },
  {
   "cell_type": "code",
   "execution_count": null,
   "id": "0ad6c5b4",
   "metadata": {},
   "outputs": [],
   "source": [
    "print(f\"Training job name: {rcf.latest_training_job.job_name}\")"
   ]
  },
  {
   "cell_type": "code",
   "execution_count": 6,
   "id": "dc319a14",
   "metadata": {},
   "outputs": [],
   "source": [
    "from sagemaker import image_uris\n",
    "image = image_uris.retrieve(framework='randomcutforest',region='us-east-1')\n",
    "\n",
    "# Output path\n",
    "#'382416733822.dkr.ecr.us-east-1.amazonaws.com/randomcutforest:1'\n"
   ]
  },
  {
   "cell_type": "code",
   "execution_count": 7,
   "id": "5fb79c8e",
   "metadata": {},
   "outputs": [],
   "source": [
    "rcf = sagemaker.model.Model(\n",
    "    image_uri=image,\n",
    "    model_data='s3://sagemaker-us-east-1-517714493426/anomaly/output/randomcutforest-2021-06-22-05-37-15-577/output/model.tar.gz',\n",
    "    role=role)"
   ]
  },
  {
   "cell_type": "code",
   "execution_count": null,
   "id": "05edf8a2",
   "metadata": {},
   "outputs": [],
   "source": [
    "#rcf_transformer = rcf.transformer(instance_count = 1, instance_type = 'ml.m4.xlarge')\n",
    "\n",
    "#rcf_transformer.transform(test_location, content_type='text/csv', split_type='Line')\n",
    "#rcf_transformer.wait()\n",
    "\n",
    "# copy result on S3 to local notebook instance\n",
    "#!aws s3 cp --recursive $rcf_transformer.output_path $data_dir\n",
    "\n",
    "# Customer Error: Feature dimension mismatch: training feature dim is: 1, scoring feature dim is: 117 (caused by ValueError)\n",
    "\n",
    "#IMDB Sentiment Analysis - XGBoost (Updating a Model) - Solution"
   ]
  },
  {
   "cell_type": "code",
   "execution_count": null,
   "id": "d4387e3f",
   "metadata": {},
   "outputs": [],
   "source": [
    "#Load S3 Data into AWS SageMaker Notebook\n",
    "\n",
    "#import pandas as pd\n",
    "#\n",
    "#bucket='my-bucket'\n",
    "#data_key = 'train.csv'\n",
    "#data_location = 's3://{}/{}'.format(bucket, data_key)\n",
    "#\n",
    "#pd.read_csv(data_location)"
   ]
  },
  {
   "cell_type": "markdown",
   "id": "6dccd058",
   "metadata": {},
   "source": [
    "## Inference "
   ]
  },
  {
   "cell_type": "code",
   "execution_count": 16,
   "id": "e782c60d",
   "metadata": {},
   "outputs": [
    {
     "name": "stdout",
     "output_type": "stream",
     "text": [
      "-----------------!"
     ]
    },
    {
     "ename": "AttributeError",
     "evalue": "'NoneType' object has no attribute 'endpoint'",
     "output_type": "error",
     "traceback": [
      "\u001b[0;31m---------------------------------------------------------------------------\u001b[0m",
      "\u001b[0;31mAttributeError\u001b[0m                            Traceback (most recent call last)",
      "\u001b[0;32m<ipython-input-16-3f26b2e93f22>\u001b[0m in \u001b[0;36m<module>\u001b[0;34m\u001b[0m\n\u001b[1;32m      1\u001b[0m \u001b[0mrcf_inference\u001b[0m \u001b[0;34m=\u001b[0m \u001b[0mrcf\u001b[0m\u001b[0;34m.\u001b[0m\u001b[0mdeploy\u001b[0m\u001b[0;34m(\u001b[0m\u001b[0minitial_instance_count\u001b[0m\u001b[0;34m=\u001b[0m\u001b[0;36m1\u001b[0m\u001b[0;34m,\u001b[0m \u001b[0minstance_type\u001b[0m\u001b[0;34m=\u001b[0m\u001b[0;34m\"ml.m4.xlarge\"\u001b[0m\u001b[0;34m)\u001b[0m\u001b[0;34m\u001b[0m\u001b[0;34m\u001b[0m\u001b[0m\n\u001b[1;32m      2\u001b[0m \u001b[0;34m\u001b[0m\u001b[0m\n\u001b[0;32m----> 3\u001b[0;31m \u001b[0mprint\u001b[0m\u001b[0;34m(\u001b[0m\u001b[0;34mf\"Endpoint name: {rcf_inference.endpoint}\"\u001b[0m\u001b[0;34m)\u001b[0m\u001b[0;34m\u001b[0m\u001b[0;34m\u001b[0m\u001b[0m\n\u001b[0m",
      "\u001b[0;31mAttributeError\u001b[0m: 'NoneType' object has no attribute 'endpoint'"
     ]
    }
   ],
   "source": [
    "rcf_inference = rcf.deploy(initial_instance_count=1, instance_type=\"ml.m4.xlarge\")\n",
    "\n",
    "print(f\"Endpoint name: {rcf_inference.endpoint}\")"
   ]
  },
  {
   "cell_type": "markdown",
   "id": "4f10dca4",
   "metadata": {},
   "source": [
    "## Data Serialization"
   ]
  },
  {
   "cell_type": "code",
   "execution_count": 10,
   "id": "4932ef3d",
   "metadata": {},
   "outputs": [
    {
     "ename": "AttributeError",
     "evalue": "'NoneType' object has no attribute 'serializer'",
     "output_type": "error",
     "traceback": [
      "\u001b[0;31m---------------------------------------------------------------------------\u001b[0m",
      "\u001b[0;31mAttributeError\u001b[0m                            Traceback (most recent call last)",
      "\u001b[0;32m<ipython-input-10-6abc875a0fd9>\u001b[0m in \u001b[0;36m<module>\u001b[0;34m\u001b[0m\n\u001b[1;32m      2\u001b[0m \u001b[0;32mfrom\u001b[0m \u001b[0msagemaker\u001b[0m\u001b[0;34m.\u001b[0m\u001b[0mdeserializers\u001b[0m \u001b[0;32mimport\u001b[0m \u001b[0mJSONDeserializer\u001b[0m\u001b[0;34m\u001b[0m\u001b[0;34m\u001b[0m\u001b[0m\n\u001b[1;32m      3\u001b[0m \u001b[0;34m\u001b[0m\u001b[0m\n\u001b[0;32m----> 4\u001b[0;31m \u001b[0mrcf_inference\u001b[0m\u001b[0;34m.\u001b[0m\u001b[0mserializer\u001b[0m \u001b[0;34m=\u001b[0m \u001b[0mCSVSerializer\u001b[0m\u001b[0;34m(\u001b[0m\u001b[0;34m)\u001b[0m \u001b[0;31m# old version: rcf_inference.content_type = 'text/csv', rcf_inference.serializer = csv_serializer\u001b[0m\u001b[0;34m\u001b[0m\u001b[0;34m\u001b[0m\u001b[0m\n\u001b[0m\u001b[1;32m      5\u001b[0m \u001b[0mrcf_inference\u001b[0m\u001b[0;34m.\u001b[0m\u001b[0mdeserializer\u001b[0m \u001b[0;34m=\u001b[0m \u001b[0mJSONDeserializer\u001b[0m\u001b[0;34m(\u001b[0m\u001b[0;34m)\u001b[0m\u001b[0;34m\u001b[0m\u001b[0;34m\u001b[0m\u001b[0m\n",
      "\u001b[0;31mAttributeError\u001b[0m: 'NoneType' object has no attribute 'serializer'"
     ]
    }
   ],
   "source": [
    "from sagemaker.serializers import CSVSerializer\n",
    "from sagemaker.deserializers import JSONDeserializer\n",
    "\n",
    "rcf_inference.serializer = CSVSerializer() # old version: rcf_inference.content_type = 'text/csv', rcf_inference.serializer = csv_serializer\n",
    "rcf_inference.deserializer = JSONDeserializer()"
   ]
  },
  {
   "cell_type": "code",
   "execution_count": 14,
   "id": "9c3d5968",
   "metadata": {},
   "outputs": [],
   "source": [
    "X_test = pd.read_pickle(\"X_test.pkl\")\n",
    "y_test = pd.read_pickle(\"y_test.pkl\")"
   ]
  },
  {
   "cell_type": "code",
   "execution_count": 15,
   "id": "50144987",
   "metadata": {},
   "outputs": [
    {
     "ename": "AttributeError",
     "evalue": "'NoneType' object has no attribute 'predict'",
     "output_type": "error",
     "traceback": [
      "\u001b[0;31m---------------------------------------------------------------------------\u001b[0m",
      "\u001b[0;31mAttributeError\u001b[0m                            Traceback (most recent call last)",
      "\u001b[0;32m<ipython-input-15-68fb1aef205a>\u001b[0m in \u001b[0;36m<module>\u001b[0;34m\u001b[0m\n\u001b[1;32m      2\u001b[0m \u001b[0mX_test_numpy\u001b[0m \u001b[0;34m=\u001b[0m \u001b[0mX_test\u001b[0m\u001b[0;34m.\u001b[0m\u001b[0mvalues\u001b[0m\u001b[0;34m.\u001b[0m\u001b[0mreshape\u001b[0m\u001b[0;34m(\u001b[0m\u001b[0;34m-\u001b[0m\u001b[0;36m1\u001b[0m\u001b[0;34m,\u001b[0m \u001b[0;36m1\u001b[0m\u001b[0;34m)\u001b[0m\u001b[0;34m\u001b[0m\u001b[0;34m\u001b[0m\u001b[0m\n\u001b[1;32m      3\u001b[0m \u001b[0;31m#print(X_test_numpy[:6])\u001b[0m\u001b[0;34m\u001b[0m\u001b[0;34m\u001b[0m\u001b[0;34m\u001b[0m\u001b[0m\n\u001b[0;32m----> 4\u001b[0;31m results = rcf_inference.predict(\n\u001b[0m\u001b[1;32m      5\u001b[0m     \u001b[0mX_test_numpy\u001b[0m\u001b[0;34m[\u001b[0m\u001b[0;34m:\u001b[0m\u001b[0;36m6\u001b[0m\u001b[0;34m]\u001b[0m\u001b[0;34m,\u001b[0m \u001b[0minitial_args\u001b[0m\u001b[0;34m=\u001b[0m\u001b[0;34m{\u001b[0m\u001b[0;34m\"ContentType\"\u001b[0m\u001b[0;34m:\u001b[0m \u001b[0;34m\"text/csv\"\u001b[0m\u001b[0;34m,\u001b[0m \u001b[0;34m\"Accept\"\u001b[0m\u001b[0;34m:\u001b[0m \u001b[0;34m\"application/json\"\u001b[0m\u001b[0;34m}\u001b[0m\u001b[0;34m\u001b[0m\u001b[0;34m\u001b[0m\u001b[0m\n\u001b[1;32m      6\u001b[0m )\n",
      "\u001b[0;31mAttributeError\u001b[0m: 'NoneType' object has no attribute 'predict'"
     ]
    }
   ],
   "source": [
    "#X_test_numpy = X_test.values.to_numpy().reshape(-1, 1)\n",
    "X_test_numpy = X_test.values.reshape(-1, 1)\n",
    "#print(X_test_numpy[:6])\n",
    "results = rcf_inference.predict(\n",
    "    X_test_numpy[:6], initial_args={\"ContentType\": \"text/csv\", \"Accept\": \"application/json\"}\n",
    ")"
   ]
  },
  {
   "cell_type": "markdown",
   "id": "44ba86c1",
   "metadata": {},
   "source": [
    "## Predicion & Anomaly Scores"
   ]
  },
  {
   "cell_type": "code",
   "execution_count": null,
   "id": "7e682205",
   "metadata": {},
   "outputs": [],
   "source": [
    "results = rcf_inference.predict(X_test_numpy)\n",
    "scores = [entry[\"score\"] for entry in results[\"scores\"]]\n",
    "\n",
    "# add scores to taxi data frame and print first few values\n",
    "y_test_predict = pd.Series(scores, index=X_test.index)\n",
    "y_test_predict.head()"
   ]
  }
 ],
 "metadata": {
  "kernelspec": {
   "display_name": "conda_python3",
   "language": "python",
   "name": "conda_python3"
  },
  "language_info": {
   "codemirror_mode": {
    "name": "ipython",
    "version": 3
   },
   "file_extension": ".py",
   "mimetype": "text/x-python",
   "name": "python",
   "nbconvert_exporter": "python",
   "pygments_lexer": "ipython3",
   "version": "3.6.13"
  }
 },
 "nbformat": 4,
 "nbformat_minor": 5
}
