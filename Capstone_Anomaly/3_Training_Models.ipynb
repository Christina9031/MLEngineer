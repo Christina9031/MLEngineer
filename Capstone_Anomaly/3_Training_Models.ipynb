{
 "cells": [
  {
   "cell_type": "code",
   "execution_count": 2,
   "id": "e2806cfb",
   "metadata": {},
   "outputs": [],
   "source": [
    "import pandas as pd\n",
    "import os\n",
    "import numpy as np\n",
    "from sklearn.metrics import roc_curve, auc, confusion_matrix\n",
    "import matplotlib.pyplot as plt"
   ]
  },
  {
   "cell_type": "code",
   "execution_count": 3,
   "id": "b1d80821",
   "metadata": {},
   "outputs": [],
   "source": [
    "import pandas as pd\n",
    "import numpy as np\n",
    "import os\n",
    "from sklearn.metrics import roc_curve, auc, confusion_matrix\n",
    "import matplotlib.pyplot as plt\n",
    "\n",
    "import boto3\n",
    "import sagemaker\n"
   ]
  },
  {
   "cell_type": "code",
   "execution_count": 4,
   "id": "65dc1d87",
   "metadata": {},
   "outputs": [],
   "source": [
    "# session and role\n",
    "sagemaker_session = sagemaker.Session()\n",
    "role = sagemaker.get_execution_role()\n",
    "\n",
    "# create an S3 bucket\n",
    "bucket = sagemaker_session.default_bucket()"
   ]
  },
  {
   "cell_type": "markdown",
   "id": "6738ee69",
   "metadata": {},
   "source": [
    "## Check if data is available at S3"
   ]
  },
  {
   "cell_type": "code",
   "execution_count": 4,
   "id": "c0607bd8",
   "metadata": {},
   "outputs": [
    {
     "name": "stdout",
     "output_type": "stream",
     "text": [
      "anomaly/RandomCutForest-2021-06-22-10-27-23-663/.amazon.manifest\n",
      "anomaly/RandomCutForest-2021-06-22-10-27-23-663/matrix_0.pbr\n",
      "anomaly/RandomCutForest-2021-06-22-11-34-41-100/.amazon.manifest\n",
      "anomaly/RandomCutForest-2021-06-22-11-34-41-100/matrix_0.pbr\n",
      "anomaly/RandomCutForest-2021-06-23-07-14-52-665/.amazon.manifest\n",
      "anomaly/RandomCutForest-2021-06-23-07-14-52-665/matrix_0.pbr\n",
      "anomaly/output/randomcutforest-2021-06-22-10-34-28-100/output/model.tar.gz\n",
      "anomaly/output/randomcutforest-2021-06-22-10-34-28-100/profiler-output/framework/training_job_end.ts\n",
      "anomaly/output/randomcutforest-2021-06-22-10-34-28-100/profiler-output/system/incremental/2021062210/1624358220.algo-1.json\n",
      "anomaly/output/randomcutforest-2021-06-22-10-34-28-100/profiler-output/system/incremental/2021062210/1624358280.algo-1.json\n",
      "anomaly/output/randomcutforest-2021-06-22-10-34-28-100/profiler-output/system/incremental/2021062210/1624358340.algo-1.json\n",
      "anomaly/output/randomcutforest-2021-06-22-10-34-28-100/profiler-output/system/training_job_end.ts\n",
      "anomaly/output/randomcutforest-2021-06-22-10-34-28-100/rule-output/ProfilerReport-1624358068/profiler-output/profiler-report.html\n",
      "anomaly/output/randomcutforest-2021-06-22-10-34-28-100/rule-output/ProfilerReport-1624358068/profiler-output/profiler-report.ipynb\n",
      "anomaly/output/randomcutforest-2021-06-22-10-34-28-100/rule-output/ProfilerReport-1624358068/profiler-output/profiler-reports/BatchSize.json\n",
      "anomaly/output/randomcutforest-2021-06-22-10-34-28-100/rule-output/ProfilerReport-1624358068/profiler-output/profiler-reports/CPUBottleneck.json\n",
      "anomaly/output/randomcutforest-2021-06-22-10-34-28-100/rule-output/ProfilerReport-1624358068/profiler-output/profiler-reports/Dataloader.json\n",
      "anomaly/output/randomcutforest-2021-06-22-10-34-28-100/rule-output/ProfilerReport-1624358068/profiler-output/profiler-reports/GPUMemoryIncrease.json\n",
      "anomaly/output/randomcutforest-2021-06-22-10-34-28-100/rule-output/ProfilerReport-1624358068/profiler-output/profiler-reports/IOBottleneck.json\n",
      "anomaly/output/randomcutforest-2021-06-22-10-34-28-100/rule-output/ProfilerReport-1624358068/profiler-output/profiler-reports/LoadBalancing.json\n",
      "anomaly/output/randomcutforest-2021-06-22-10-34-28-100/rule-output/ProfilerReport-1624358068/profiler-output/profiler-reports/LowGPUUtilization.json\n",
      "anomaly/output/randomcutforest-2021-06-22-10-34-28-100/rule-output/ProfilerReport-1624358068/profiler-output/profiler-reports/MaxInitializationTime.json\n",
      "anomaly/output/randomcutforest-2021-06-22-10-34-28-100/rule-output/ProfilerReport-1624358068/profiler-output/profiler-reports/OverallFrameworkMetrics.json\n",
      "anomaly/output/randomcutforest-2021-06-22-10-34-28-100/rule-output/ProfilerReport-1624358068/profiler-output/profiler-reports/OverallSystemUsage.json\n",
      "anomaly/output/randomcutforest-2021-06-22-10-34-28-100/rule-output/ProfilerReport-1624358068/profiler-output/profiler-reports/StepOutlier.json\n",
      "anomaly/output/randomcutforest-2021-06-22-11-41-49-152/output/model.tar.gz\n",
      "anomaly/output/randomcutforest-2021-06-22-11-41-49-152/profiler-output/framework/training_job_end.ts\n",
      "anomaly/output/randomcutforest-2021-06-22-11-41-49-152/profiler-output/system/incremental/2021062211/1624362240.algo-1.json\n",
      "anomaly/output/randomcutforest-2021-06-22-11-41-49-152/profiler-output/system/incremental/2021062211/1624362300.algo-1.json\n",
      "anomaly/output/randomcutforest-2021-06-22-11-41-49-152/profiler-output/system/incremental/2021062211/1624362360.algo-1.json\n",
      "anomaly/output/randomcutforest-2021-06-22-11-41-49-152/profiler-output/system/training_job_end.ts\n",
      "anomaly/output/randomcutforest-2021-06-22-11-41-49-152/rule-output/ProfilerReport-1624362109/profiler-output/profiler-report.html\n",
      "anomaly/output/randomcutforest-2021-06-22-11-41-49-152/rule-output/ProfilerReport-1624362109/profiler-output/profiler-report.ipynb\n",
      "anomaly/output/randomcutforest-2021-06-22-11-41-49-152/rule-output/ProfilerReport-1624362109/profiler-output/profiler-reports/BatchSize.json\n",
      "anomaly/output/randomcutforest-2021-06-22-11-41-49-152/rule-output/ProfilerReport-1624362109/profiler-output/profiler-reports/CPUBottleneck.json\n",
      "anomaly/output/randomcutforest-2021-06-22-11-41-49-152/rule-output/ProfilerReport-1624362109/profiler-output/profiler-reports/Dataloader.json\n",
      "anomaly/output/randomcutforest-2021-06-22-11-41-49-152/rule-output/ProfilerReport-1624362109/profiler-output/profiler-reports/GPUMemoryIncrease.json\n",
      "anomaly/output/randomcutforest-2021-06-22-11-41-49-152/rule-output/ProfilerReport-1624362109/profiler-output/profiler-reports/IOBottleneck.json\n",
      "anomaly/output/randomcutforest-2021-06-22-11-41-49-152/rule-output/ProfilerReport-1624362109/profiler-output/profiler-reports/LoadBalancing.json\n",
      "anomaly/output/randomcutforest-2021-06-22-11-41-49-152/rule-output/ProfilerReport-1624362109/profiler-output/profiler-reports/LowGPUUtilization.json\n",
      "anomaly/output/randomcutforest-2021-06-22-11-41-49-152/rule-output/ProfilerReport-1624362109/profiler-output/profiler-reports/MaxInitializationTime.json\n",
      "anomaly/output/randomcutforest-2021-06-22-11-41-49-152/rule-output/ProfilerReport-1624362109/profiler-output/profiler-reports/OverallFrameworkMetrics.json\n",
      "anomaly/output/randomcutforest-2021-06-22-11-41-49-152/rule-output/ProfilerReport-1624362109/profiler-output/profiler-reports/OverallSystemUsage.json\n",
      "anomaly/output/randomcutforest-2021-06-22-11-41-49-152/rule-output/ProfilerReport-1624362109/profiler-output/profiler-reports/StepOutlier.json\n",
      "anomaly/output/randomcutforest-2021-06-23-07-15-07-327/output/model.tar.gz\n",
      "anomaly/output/randomcutforest-2021-06-23-07-15-07-327/profiler-output/framework/training_job_end.ts\n",
      "anomaly/output/randomcutforest-2021-06-23-07-15-07-327/profiler-output/system/incremental/2021062307/1624432680.algo-1.json\n",
      "anomaly/output/randomcutforest-2021-06-23-07-15-07-327/profiler-output/system/incremental/2021062307/1624432740.algo-1.json\n",
      "anomaly/output/randomcutforest-2021-06-23-07-15-07-327/profiler-output/system/training_job_end.ts\n",
      "anomaly/output/randomcutforest-2021-06-23-07-15-07-327/rule-output/ProfilerReport-1624432507/profiler-output/profiler-report.html\n",
      "anomaly/output/randomcutforest-2021-06-23-07-15-07-327/rule-output/ProfilerReport-1624432507/profiler-output/profiler-report.ipynb\n",
      "anomaly/output/randomcutforest-2021-06-23-07-15-07-327/rule-output/ProfilerReport-1624432507/profiler-output/profiler-reports/BatchSize.json\n",
      "anomaly/output/randomcutforest-2021-06-23-07-15-07-327/rule-output/ProfilerReport-1624432507/profiler-output/profiler-reports/CPUBottleneck.json\n",
      "anomaly/output/randomcutforest-2021-06-23-07-15-07-327/rule-output/ProfilerReport-1624432507/profiler-output/profiler-reports/Dataloader.json\n",
      "anomaly/output/randomcutforest-2021-06-23-07-15-07-327/rule-output/ProfilerReport-1624432507/profiler-output/profiler-reports/GPUMemoryIncrease.json\n",
      "anomaly/output/randomcutforest-2021-06-23-07-15-07-327/rule-output/ProfilerReport-1624432507/profiler-output/profiler-reports/IOBottleneck.json\n",
      "anomaly/output/randomcutforest-2021-06-23-07-15-07-327/rule-output/ProfilerReport-1624432507/profiler-output/profiler-reports/LoadBalancing.json\n",
      "anomaly/output/randomcutforest-2021-06-23-07-15-07-327/rule-output/ProfilerReport-1624432507/profiler-output/profiler-reports/LowGPUUtilization.json\n",
      "anomaly/output/randomcutforest-2021-06-23-07-15-07-327/rule-output/ProfilerReport-1624432507/profiler-output/profiler-reports/MaxInitializationTime.json\n",
      "anomaly/output/randomcutforest-2021-06-23-07-15-07-327/rule-output/ProfilerReport-1624432507/profiler-output/profiler-reports/OverallFrameworkMetrics.json\n",
      "anomaly/output/randomcutforest-2021-06-23-07-15-07-327/rule-output/ProfilerReport-1624432507/profiler-output/profiler-reports/OverallSystemUsage.json\n",
      "anomaly/output/randomcutforest-2021-06-23-07-15-07-327/rule-output/ProfilerReport-1624432507/profiler-output/profiler-reports/StepOutlier.json\n",
      "anomaly/test.csv\n",
      "anomaly/train.csv\n",
      "anomaly/val.csv\n",
      "randomcutforest-2021-06-23-07-20-27-703/test.csv.out\n"
     ]
    }
   ],
   "source": [
    "# set prefix, a descriptive name for a directory  \n",
    "prefix = 'anomaly'\n",
    "\n",
    "for obj in boto3.resource('s3').Bucket(bucket).objects.all():\n",
    "    print(obj.key)"
   ]
  },
  {
   "cell_type": "code",
   "execution_count": 5,
   "id": "bdb003d9",
   "metadata": {},
   "outputs": [],
   "source": [
    "# set locations from variables from data preperation notebook\n",
    "train_location = 's3://sagemaker-us-east-1-517714493426/anomaly/train.csv'\n",
    "val_location = 's3://sagemaker-us-east-1-517714493426/anomaly/val.csv'\n",
    "test_location = 's3://sagemaker-us-east-1-517714493426/anomaly/test.csv'"
   ]
  },
  {
   "cell_type": "markdown",
   "id": "d68be1d1",
   "metadata": {},
   "source": [
    "## Train a Model with Sagemaker built-in function Random Cut Forests"
   ]
  },
  {
   "cell_type": "code",
   "execution_count": 15,
   "id": "c3238a59",
   "metadata": {},
   "outputs": [
    {
     "name": "stderr",
     "output_type": "stream",
     "text": [
      "Defaulting to the only supported framework/algorithm version: 1. Ignoring framework/algorithm version: us-east-1.\n"
     ]
    },
    {
     "name": "stdout",
     "output_type": "stream",
     "text": [
      "AWS Region: us-east-1\n",
      "RoleArn: arn:aws:iam::517714493426:role/service-role/AmazonSageMaker-ExecutionRole-20210409T152960\n",
      "382416733822.dkr.ecr.us-east-1.amazonaws.com/randomcutforest:1\n"
     ]
    },
    {
     "ename": "AttributeError",
     "evalue": "'Estimator' object has no attribute 'record_set'",
     "output_type": "error",
     "traceback": [
      "\u001b[0;31m---------------------------------------------------------------------------\u001b[0m",
      "\u001b[0;31mAttributeError\u001b[0m                            Traceback (most recent call last)",
      "\u001b[0;32m<ipython-input-15-fa229dbe0857>\u001b[0m in \u001b[0;36m<module>\u001b[0;34m\u001b[0m\n\u001b[1;32m     32\u001b[0m \u001b[0;34m\u001b[0m\u001b[0m\n\u001b[1;32m     33\u001b[0m \u001b[0;31m#rcf.fit({'train': train_data, 'validation': val_data}, wait=True)\u001b[0m\u001b[0;34m\u001b[0m\u001b[0;34m\u001b[0m\u001b[0;34m\u001b[0m\u001b[0m\n\u001b[0;32m---> 34\u001b[0;31m \u001b[0mrcf\u001b[0m\u001b[0;34m.\u001b[0m\u001b[0mfit\u001b[0m\u001b[0;34m(\u001b[0m\u001b[0mrcf\u001b[0m\u001b[0;34m.\u001b[0m\u001b[0mrecord_set\u001b[0m\u001b[0;34m(\u001b[0m\u001b[0mtrain_data\u001b[0m\u001b[0;34m)\u001b[0m\u001b[0;34m)\u001b[0m\u001b[0;34m\u001b[0m\u001b[0;34m\u001b[0m\u001b[0m\n\u001b[0m",
      "\u001b[0;31mAttributeError\u001b[0m: 'Estimator' object has no attribute 'record_set'"
     ]
    }
   ],
   "source": [
    "import sagemaker\n",
    "\n",
    "region = sagemaker.Session().boto_region_name\n",
    "print(\"AWS Region: {}\".format(region))\n",
    "\n",
    "role = sagemaker.get_execution_role()\n",
    "print(\"RoleArn: {}\".format(role))\n",
    "\n",
    "#https://docs.aws.amazon.com/sagemaker/latest/dg/ecr-us-east-1.html#randomcutforest-us-east-1.title\n",
    "container=sagemaker.image_uris.retrieve(\"randomcutforest\", region, \"us-east-1\")\n",
    "print(container)\n",
    "\n",
    "rcf = sagemaker.estimator.Estimator(\n",
    "    image_uri=container,\n",
    "    role=role,\n",
    "    instance_count=1,\n",
    "    sagemaker_session=sagemaker.Session(),\n",
    "    instance_type=\"ml.m4.xlarge\",\n",
    "    data_location=f\"s3://{bucket}/{prefix}/\",\n",
    "    output_path=f\"s3://{bucket}/{prefix}/output\"\n",
    ")\n",
    "\n",
    "rcf.set_hyperparameters(\n",
    "    eval_metrics = 'precision_recall_fscore',\n",
    "    num_samples_per_tree=256,\n",
    "    num_trees=100,\n",
    "    \n",
    ")\n",
    "\n",
    "train_data = sagemaker.inputs.TrainingInput(s3_data=train_location, content_type='text/csv;label_size=0', distribution='ShardedByS3Key')\n",
    "val_data = sagemaker.inputs.TrainingInput(s3_data=val_location, content_type='csv', distribution='FullyReplicated')\n",
    "\n",
    "rcf.fit({'train': train_data, 'validation': val_data}, wait=True)"
   ]
  },
  {
   "cell_type": "code",
   "execution_count": 16,
   "id": "14a5cc9d",
   "metadata": {},
   "outputs": [
    {
     "ename": "ValueError",
     "evalue": "Random Cut Forest uses a fixed mini_batch_size of 1000",
     "output_type": "error",
     "traceback": [
      "\u001b[0;31m---------------------------------------------------------------------------\u001b[0m",
      "\u001b[0;31mValueError\u001b[0m                                Traceback (most recent call last)",
      "\u001b[0;32m<ipython-input-16-eee12f210e59>\u001b[0m in \u001b[0;36m<module>\u001b[0;34m\u001b[0m\n\u001b[1;32m     23\u001b[0m \u001b[0;34m\u001b[0m\u001b[0m\n\u001b[1;32m     24\u001b[0m \u001b[0;31m# automatically upload the training data to S3 and run the training job\u001b[0m\u001b[0;34m\u001b[0m\u001b[0;34m\u001b[0m\u001b[0;34m\u001b[0m\u001b[0m\n\u001b[0;32m---> 25\u001b[0;31m \u001b[0mrcf\u001b[0m\u001b[0;34m.\u001b[0m\u001b[0mfit\u001b[0m\u001b[0;34m(\u001b[0m\u001b[0mrcf\u001b[0m\u001b[0;34m.\u001b[0m\u001b[0mrecord_set\u001b[0m\u001b[0;34m(\u001b[0m\u001b[0mdata_train\u001b[0m\u001b[0;34m.\u001b[0m\u001b[0mto_numpy\u001b[0m\u001b[0;34m(\u001b[0m\u001b[0;34m)\u001b[0m\u001b[0;34m)\u001b[0m\u001b[0;34m,\u001b[0m \u001b[0mrcf\u001b[0m\u001b[0;34m.\u001b[0m\u001b[0mrecord_set\u001b[0m\u001b[0;34m(\u001b[0m\u001b[0mdata_val\u001b[0m\u001b[0;34m.\u001b[0m\u001b[0mto_numpy\u001b[0m\u001b[0;34m(\u001b[0m\u001b[0;34m)\u001b[0m\u001b[0;34m)\u001b[0m\u001b[0;34m)\u001b[0m\u001b[0;34m\u001b[0m\u001b[0;34m\u001b[0m\u001b[0m\n\u001b[0m",
      "\u001b[0;32m~/anaconda3/envs/python3/lib/python3.6/site-packages/sagemaker/amazon/amazon_estimator.py\u001b[0m in \u001b[0;36mfit\u001b[0;34m(self, records, mini_batch_size, wait, logs, job_name, experiment_config)\u001b[0m\n\u001b[1;32m    234\u001b[0m                 \u001b[0;34m(\u001b[0m\u001b[0mdefault\u001b[0m\u001b[0;34m:\u001b[0m\u001b[0;31m \u001b[0m\u001b[0;31m`\u001b[0m\u001b[0;31m`\u001b[0m\u001b[0;32mNone\u001b[0m\u001b[0;31m`\u001b[0m\u001b[0;31m`\u001b[0m\u001b[0;34m)\u001b[0m\u001b[0;34m.\u001b[0m\u001b[0;34m\u001b[0m\u001b[0;34m\u001b[0m\u001b[0m\n\u001b[1;32m    235\u001b[0m         \"\"\"\n\u001b[0;32m--> 236\u001b[0;31m         \u001b[0mself\u001b[0m\u001b[0;34m.\u001b[0m\u001b[0m_prepare_for_training\u001b[0m\u001b[0;34m(\u001b[0m\u001b[0mrecords\u001b[0m\u001b[0;34m,\u001b[0m \u001b[0mjob_name\u001b[0m\u001b[0;34m=\u001b[0m\u001b[0mjob_name\u001b[0m\u001b[0;34m,\u001b[0m \u001b[0mmini_batch_size\u001b[0m\u001b[0;34m=\u001b[0m\u001b[0mmini_batch_size\u001b[0m\u001b[0;34m)\u001b[0m\u001b[0;34m\u001b[0m\u001b[0;34m\u001b[0m\u001b[0m\n\u001b[0m\u001b[1;32m    237\u001b[0m \u001b[0;34m\u001b[0m\u001b[0m\n\u001b[1;32m    238\u001b[0m         self.latest_training_job = _TrainingJob.start_new(\n",
      "\u001b[0;32m~/anaconda3/envs/python3/lib/python3.6/site-packages/sagemaker/amazon/randomcutforest.py\u001b[0m in \u001b[0;36m_prepare_for_training\u001b[0;34m(self, records, mini_batch_size, job_name)\u001b[0m\n\u001b[1;32m    150\u001b[0m         \u001b[0;32melif\u001b[0m \u001b[0mmini_batch_size\u001b[0m \u001b[0;34m!=\u001b[0m \u001b[0mself\u001b[0m\u001b[0;34m.\u001b[0m\u001b[0mMINI_BATCH_SIZE\u001b[0m\u001b[0;34m:\u001b[0m\u001b[0;34m\u001b[0m\u001b[0;34m\u001b[0m\u001b[0m\n\u001b[1;32m    151\u001b[0m             raise ValueError(\n\u001b[0;32m--> 152\u001b[0;31m                 \u001b[0;34m\"Random Cut Forest uses a fixed mini_batch_size of {}\"\u001b[0m\u001b[0;34m.\u001b[0m\u001b[0mformat\u001b[0m\u001b[0;34m(\u001b[0m\u001b[0mself\u001b[0m\u001b[0;34m.\u001b[0m\u001b[0mMINI_BATCH_SIZE\u001b[0m\u001b[0;34m)\u001b[0m\u001b[0;34m\u001b[0m\u001b[0;34m\u001b[0m\u001b[0m\n\u001b[0m\u001b[1;32m    153\u001b[0m             )\n\u001b[1;32m    154\u001b[0m \u001b[0;34m\u001b[0m\u001b[0m\n",
      "\u001b[0;31mValueError\u001b[0m: Random Cut Forest uses a fixed mini_batch_size of 1000"
     ]
    }
   ],
   "source": [
    "from sagemaker import RandomCutForest\n",
    "\n",
    "prefix = 'anomaly'\n",
    "\n",
    "# specify general training job information\n",
    "rcf = RandomCutForest(\n",
    "    role=role,\n",
    "    instance_count=1,\n",
    "    instance_type=\"ml.m4.xlarge\",\n",
    "    data_location=f\"s3://{bucket}/{prefix}/\",\n",
    "    output_path=f\"s3://{bucket}/{prefix}/output\",\n",
    "    num_samples_per_tree=512,\n",
    "    num_trees=50,\n",
    "    eval_metrics='f1'\n",
    ")\n",
    "\n",
    "#https://sagemaker-examples.readthedocs.io/en/latest/introduction_to_amazon_algorithms/random_cut_forest/random_cut_forest.html\n",
    "data_train = pd.read_pickle('X_train.pkl')\n",
    "X_val = pd.read_pickle('X_val.pkl')\n",
    "y_val = pd.read_pickle('y_val.pkl')\n",
    "data_val = pd.concat([y_val, X_val], axis=1)\n",
    "\n",
    "# automatically upload the training data to S3 and run the training job\n",
    "rcf.fit(rcf.record_set(data_train.to_numpy()), rcf.record_set(data_val.to_numpy()))"
   ]
  },
  {
   "cell_type": "code",
   "execution_count": 5,
   "id": "6db45b51",
   "metadata": {},
   "outputs": [
    {
     "name": "stderr",
     "output_type": "stream",
     "text": [
      "Defaulting to the only supported framework/algorithm version: 1. Ignoring framework/algorithm version: 1.\n",
      "Defaulting to the only supported framework/algorithm version: 1. Ignoring framework/algorithm version: 1.\n"
     ]
    },
    {
     "name": "stdout",
     "output_type": "stream",
     "text": [
      "2021-06-24 10:55:24 Starting - Starting the training job...\n",
      "2021-06-24 10:55:26 Starting - Launching requested ML instancesProfilerReport-1624532124: InProgress\n",
      "......\n",
      "2021-06-24 10:56:41 Starting - Preparing the instances for training.........\n",
      "2021-06-24 10:58:21 Downloading - Downloading input data...\n",
      "2021-06-24 10:58:43 Training - Downloading the training image..\u001b[34mDocker entrypoint called with argument(s): train\u001b[0m\n",
      "\u001b[34mRunning default environment configuration script\u001b[0m\n",
      "\u001b[34m[06/24/2021 10:59:09 INFO 139736704735040] Reading default configuration from /opt/amazon/lib/python3.7/site-packages/algorithm/resources/default-conf.json: {'num_samples_per_tree': 256, 'num_trees': 100, 'force_dense': 'true', 'eval_metrics': ['accuracy', 'precision_recall_fscore'], 'epochs': 1, 'mini_batch_size': 1000, '_log_level': 'info', '_kvstore': 'dist_async', '_num_kv_servers': 'auto', '_num_gpus': 'auto', '_tuning_objective_metric': '', '_ftp_port': 8999}\u001b[0m\n",
      "\u001b[34m[06/24/2021 10:59:09 INFO 139736704735040] Merging with provided configuration from /opt/ml/input/config/hyperparameters.json: {'num_trees': '50', 'num_samples_per_tree': '512', 'feature_dim': '116', 'eval_metrics': '[\"f\", \"1\"]', 'mini_batch_size': '1000'}\u001b[0m\n",
      "\u001b[34m[06/24/2021 10:59:09 INFO 139736704735040] Final configuration: {'num_samples_per_tree': '512', 'num_trees': '50', 'force_dense': 'true', 'eval_metrics': '[\"f\", \"1\"]', 'epochs': 1, 'mini_batch_size': '1000', '_log_level': 'info', '_kvstore': 'dist_async', '_num_kv_servers': 'auto', '_num_gpus': 'auto', '_tuning_objective_metric': '', '_ftp_port': 8999, 'feature_dim': '116'}\u001b[0m\n",
      "\u001b[34m[06/24/2021 10:59:09 WARNING 139736704735040] Loggers have already been setup.\u001b[0m\n",
      "\u001b[34m[06/24/2021 10:59:09 INFO 139736704735040] Launching parameter server for role scheduler\u001b[0m\n",
      "\u001b[34m[06/24/2021 10:59:09 INFO 139736704735040] {'ENVROOT': '/opt/amazon', 'PROTOCOL_BUFFERS_PYTHON_IMPLEMENTATION': 'cpp', 'HOSTNAME': 'ip-10-2-98-148.ec2.internal', 'TRAINING_JOB_NAME': 'randomcutforest-2021-06-24-10-55-24-676', 'NVIDIA_REQUIRE_CUDA': 'cuda>=9.0', 'TRAINING_JOB_ARN': 'arn:aws:sagemaker:us-east-1:517714493426:training-job/randomcutforest-2021-06-24-10-55-24-676', 'AWS_CONTAINER_CREDENTIALS_RELATIVE_URI': '/v2/credentials/ad8400a6-1f20-4057-926c-f7a7ba59c9d0', 'CANONICAL_ENVROOT': '/opt/amazon', 'PYTHONUNBUFFERED': 'TRUE', 'NVIDIA_VISIBLE_DEVICES': 'void', 'LD_LIBRARY_PATH': '/opt/amazon/lib/python3.7/site-packages/cv2/../../../../lib:/usr/local/nvidia/lib64:/opt/amazon/lib', 'MXNET_KVSTORE_BIGARRAY_BOUND': '400000000', 'NVIDIA_DRIVER_CAPABILITIES': 'compute,utility', 'AWS_EXECUTION_ENV': 'AWS_ECS_EC2', 'PATH': '/opt/amazon/bin:/usr/local/nvidia/bin:/usr/local/sbin:/usr/local/bin:/usr/sbin:/usr/bin:/sbin:/bin:/opt/amazon/bin:/opt/amazon/bin', 'PWD': '/', 'LANG': 'en_US.utf8', 'AWS_REGION': 'us-east-1', 'SAGEMAKER_METRICS_DIRECTORY': '/opt/ml/output/metrics/sagemaker', 'HOME': '/root', 'SHLVL': '1', 'PROTOCOL_BUFFERS_PYTHON_IMPLEMENTATION_VERSION': '2', 'OMP_NUM_THREADS': '2', 'DMLC_INTERFACE': 'eth0', 'ECS_CONTAINER_METADATA_URI': 'http://169.254.170.2/v3/82612958-fe3e-4b87-bad7-e80e54712f71', 'ECS_CONTAINER_METADATA_URI_V4': 'http://169.254.170.2/v4/82612958-fe3e-4b87-bad7-e80e54712f71', 'SAGEMAKER_HTTP_PORT': '8080', 'SAGEMAKER_DATA_PATH': '/opt/ml', 'KMP_DUPLICATE_LIB_OK': 'True', 'KMP_INIT_AT_FORK': 'FALSE'}\u001b[0m\n",
      "\u001b[34m[06/24/2021 10:59:09 INFO 139736704735040] envs={'ENVROOT': '/opt/amazon', 'PROTOCOL_BUFFERS_PYTHON_IMPLEMENTATION': 'cpp', 'HOSTNAME': 'ip-10-2-98-148.ec2.internal', 'TRAINING_JOB_NAME': 'randomcutforest-2021-06-24-10-55-24-676', 'NVIDIA_REQUIRE_CUDA': 'cuda>=9.0', 'TRAINING_JOB_ARN': 'arn:aws:sagemaker:us-east-1:517714493426:training-job/randomcutforest-2021-06-24-10-55-24-676', 'AWS_CONTAINER_CREDENTIALS_RELATIVE_URI': '/v2/credentials/ad8400a6-1f20-4057-926c-f7a7ba59c9d0', 'CANONICAL_ENVROOT': '/opt/amazon', 'PYTHONUNBUFFERED': 'TRUE', 'NVIDIA_VISIBLE_DEVICES': 'void', 'LD_LIBRARY_PATH': '/opt/amazon/lib/python3.7/site-packages/cv2/../../../../lib:/usr/local/nvidia/lib64:/opt/amazon/lib', 'MXNET_KVSTORE_BIGARRAY_BOUND': '400000000', 'NVIDIA_DRIVER_CAPABILITIES': 'compute,utility', 'AWS_EXECUTION_ENV': 'AWS_ECS_EC2', 'PATH': '/opt/amazon/bin:/usr/local/nvidia/bin:/usr/local/sbin:/usr/local/bin:/usr/sbin:/usr/bin:/sbin:/bin:/opt/amazon/bin:/opt/amazon/bin', 'PWD': '/', 'LANG': 'en_US.utf8', 'AWS_REGION': 'us-east-1', 'SAGEMAKER_METRICS_DIRECTORY': '/opt/ml/output/metrics/sagemaker', 'HOME': '/root', 'SHLVL': '1', 'PROTOCOL_BUFFERS_PYTHON_IMPLEMENTATION_VERSION': '2', 'OMP_NUM_THREADS': '2', 'DMLC_INTERFACE': 'eth0', 'ECS_CONTAINER_METADATA_URI': 'http://169.254.170.2/v3/82612958-fe3e-4b87-bad7-e80e54712f71', 'ECS_CONTAINER_METADATA_URI_V4': 'http://169.254.170.2/v4/82612958-fe3e-4b87-bad7-e80e54712f71', 'SAGEMAKER_HTTP_PORT': '8080', 'SAGEMAKER_DATA_PATH': '/opt/ml', 'KMP_DUPLICATE_LIB_OK': 'True', 'KMP_INIT_AT_FORK': 'FALSE', 'DMLC_ROLE': 'scheduler', 'DMLC_PS_ROOT_URI': '10.2.98.148', 'DMLC_PS_ROOT_PORT': '9000', 'DMLC_NUM_SERVER': '1', 'DMLC_NUM_WORKER': '1'}\u001b[0m\n",
      "\u001b[34m[06/24/2021 10:59:09 INFO 139736704735040] Launching parameter server for role server\u001b[0m\n",
      "\u001b[34m[06/24/2021 10:59:09 INFO 139736704735040] {'ENVROOT': '/opt/amazon', 'PROTOCOL_BUFFERS_PYTHON_IMPLEMENTATION': 'cpp', 'HOSTNAME': 'ip-10-2-98-148.ec2.internal', 'TRAINING_JOB_NAME': 'randomcutforest-2021-06-24-10-55-24-676', 'NVIDIA_REQUIRE_CUDA': 'cuda>=9.0', 'TRAINING_JOB_ARN': 'arn:aws:sagemaker:us-east-1:517714493426:training-job/randomcutforest-2021-06-24-10-55-24-676', 'AWS_CONTAINER_CREDENTIALS_RELATIVE_URI': '/v2/credentials/ad8400a6-1f20-4057-926c-f7a7ba59c9d0', 'CANONICAL_ENVROOT': '/opt/amazon', 'PYTHONUNBUFFERED': 'TRUE', 'NVIDIA_VISIBLE_DEVICES': 'void', 'LD_LIBRARY_PATH': '/opt/amazon/lib/python3.7/site-packages/cv2/../../../../lib:/usr/local/nvidia/lib64:/opt/amazon/lib', 'MXNET_KVSTORE_BIGARRAY_BOUND': '400000000', 'NVIDIA_DRIVER_CAPABILITIES': 'compute,utility', 'AWS_EXECUTION_ENV': 'AWS_ECS_EC2', 'PATH': '/opt/amazon/bin:/usr/local/nvidia/bin:/usr/local/sbin:/usr/local/bin:/usr/sbin:/usr/bin:/sbin:/bin:/opt/amazon/bin:/opt/amazon/bin', 'PWD': '/', 'LANG': 'en_US.utf8', 'AWS_REGION': 'us-east-1', 'SAGEMAKER_METRICS_DIRECTORY': '/opt/ml/output/metrics/sagemaker', 'HOME': '/root', 'SHLVL': '1', 'PROTOCOL_BUFFERS_PYTHON_IMPLEMENTATION_VERSION': '2', 'OMP_NUM_THREADS': '2', 'DMLC_INTERFACE': 'eth0', 'ECS_CONTAINER_METADATA_URI': 'http://169.254.170.2/v3/82612958-fe3e-4b87-bad7-e80e54712f71', 'ECS_CONTAINER_METADATA_URI_V4': 'http://169.254.170.2/v4/82612958-fe3e-4b87-bad7-e80e54712f71', 'SAGEMAKER_HTTP_PORT': '8080', 'SAGEMAKER_DATA_PATH': '/opt/ml', 'KMP_DUPLICATE_LIB_OK': 'True', 'KMP_INIT_AT_FORK': 'FALSE'}\u001b[0m\n",
      "\u001b[34m[06/24/2021 10:59:09 INFO 139736704735040] envs={'ENVROOT': '/opt/amazon', 'PROTOCOL_BUFFERS_PYTHON_IMPLEMENTATION': 'cpp', 'HOSTNAME': 'ip-10-2-98-148.ec2.internal', 'TRAINING_JOB_NAME': 'randomcutforest-2021-06-24-10-55-24-676', 'NVIDIA_REQUIRE_CUDA': 'cuda>=9.0', 'TRAINING_JOB_ARN': 'arn:aws:sagemaker:us-east-1:517714493426:training-job/randomcutforest-2021-06-24-10-55-24-676', 'AWS_CONTAINER_CREDENTIALS_RELATIVE_URI': '/v2/credentials/ad8400a6-1f20-4057-926c-f7a7ba59c9d0', 'CANONICAL_ENVROOT': '/opt/amazon', 'PYTHONUNBUFFERED': 'TRUE', 'NVIDIA_VISIBLE_DEVICES': 'void', 'LD_LIBRARY_PATH': '/opt/amazon/lib/python3.7/site-packages/cv2/../../../../lib:/usr/local/nvidia/lib64:/opt/amazon/lib', 'MXNET_KVSTORE_BIGARRAY_BOUND': '400000000', 'NVIDIA_DRIVER_CAPABILITIES': 'compute,utility', 'AWS_EXECUTION_ENV': 'AWS_ECS_EC2', 'PATH': '/opt/amazon/bin:/usr/local/nvidia/bin:/usr/local/sbin:/usr/local/bin:/usr/sbin:/usr/bin:/sbin:/bin:/opt/amazon/bin:/opt/amazon/bin', 'PWD': '/', 'LANG': 'en_US.utf8', 'AWS_REGION': 'us-east-1', 'SAGEMAKER_METRICS_DIRECTORY': '/opt/ml/output/metrics/sagemaker', 'HOME': '/root', 'SHLVL': '1', 'PROTOCOL_BUFFERS_PYTHON_IMPLEMENTATION_VERSION': '2', 'OMP_NUM_THREADS': '2', 'DMLC_INTERFACE': 'eth0', 'ECS_CONTAINER_METADATA_URI': 'http://169.254.170.2/v3/82612958-fe3e-4b87-bad7-e80e54712f71', 'ECS_CONTAINER_METADATA_URI_V4': 'http://169.254.170.2/v4/82612958-fe3e-4b87-bad7-e80e54712f71', 'SAGEMAKER_HTTP_PORT': '8080', 'SAGEMAKER_DATA_PATH': '/opt/ml', 'KMP_DUPLICATE_LIB_OK': 'True', 'KMP_INIT_AT_FORK': 'FALSE', 'DMLC_ROLE': 'server', 'DMLC_PS_ROOT_URI': '10.2.98.148', 'DMLC_PS_ROOT_PORT': '9000', 'DMLC_NUM_SERVER': '1', 'DMLC_NUM_WORKER': '1'}\u001b[0m\n",
      "\u001b[34m[06/24/2021 10:59:09 INFO 139736704735040] Environment: {'ENVROOT': '/opt/amazon', 'PROTOCOL_BUFFERS_PYTHON_IMPLEMENTATION': 'cpp', 'HOSTNAME': 'ip-10-2-98-148.ec2.internal', 'TRAINING_JOB_NAME': 'randomcutforest-2021-06-24-10-55-24-676', 'NVIDIA_REQUIRE_CUDA': 'cuda>=9.0', 'TRAINING_JOB_ARN': 'arn:aws:sagemaker:us-east-1:517714493426:training-job/randomcutforest-2021-06-24-10-55-24-676', 'AWS_CONTAINER_CREDENTIALS_RELATIVE_URI': '/v2/credentials/ad8400a6-1f20-4057-926c-f7a7ba59c9d0', 'CANONICAL_ENVROOT': '/opt/amazon', 'PYTHONUNBUFFERED': 'TRUE', 'NVIDIA_VISIBLE_DEVICES': 'void', 'LD_LIBRARY_PATH': '/opt/amazon/lib/python3.7/site-packages/cv2/../../../../lib:/usr/local/nvidia/lib64:/opt/amazon/lib', 'MXNET_KVSTORE_BIGARRAY_BOUND': '400000000', 'NVIDIA_DRIVER_CAPABILITIES': 'compute,utility', 'AWS_EXECUTION_ENV': 'AWS_ECS_EC2', 'PATH': '/opt/amazon/bin:/usr/local/nvidia/bin:/usr/local/sbin:/usr/local/bin:/usr/sbin:/usr/bin:/sbin:/bin:/opt/amazon/bin:/opt/amazon/bin', 'PWD': '/', 'LANG': 'en_US.utf8', 'AWS_REGION': 'us-east-1', 'SAGEMAKER_METRICS_DIRECTORY': '/opt/ml/output/metrics/sagemaker', 'HOME': '/root', 'SHLVL': '1', 'PROTOCOL_BUFFERS_PYTHON_IMPLEMENTATION_VERSION': '2', 'OMP_NUM_THREADS': '2', 'DMLC_INTERFACE': 'eth0', 'ECS_CONTAINER_METADATA_URI': 'http://169.254.170.2/v3/82612958-fe3e-4b87-bad7-e80e54712f71', 'ECS_CONTAINER_METADATA_URI_V4': 'http://169.254.170.2/v4/82612958-fe3e-4b87-bad7-e80e54712f71', 'SAGEMAKER_HTTP_PORT': '8080', 'SAGEMAKER_DATA_PATH': '/opt/ml', 'KMP_DUPLICATE_LIB_OK': 'True', 'KMP_INIT_AT_FORK': 'FALSE', 'DMLC_ROLE': 'worker', 'DMLC_PS_ROOT_URI': '10.2.98.148', 'DMLC_PS_ROOT_PORT': '9000', 'DMLC_NUM_SERVER': '1', 'DMLC_NUM_WORKER': '1'}\u001b[0m\n",
      "\u001b[34mProcess 34 is a shell:scheduler.\u001b[0m\n",
      "\u001b[34mProcess 46 is a shell:server.\u001b[0m\n",
      "\u001b[34mProcess 1 is a worker.\u001b[0m\n",
      "\u001b[34m[06/24/2021 10:59:09 INFO 139736704735040] Using default worker.\u001b[0m\n",
      "\u001b[34m[06/24/2021 10:59:09 INFO 139736704735040] Loaded iterator creator application/x-recordio-protobuf for content type ('application/x-recordio-protobuf', '1.0')\u001b[0m\n",
      "\u001b[34m[06/24/2021 10:59:09 INFO 139736704735040] Checkpoint loading and saving are disabled.\u001b[0m\n",
      "\u001b[34m[06/24/2021 10:59:09 INFO 139736704735040] Verifying hyperparamemters...\u001b[0m\n",
      "\u001b[34m[06/24/2021 10:59:09 INFO 139736704735040] Hyperparameters are correct.\u001b[0m\n",
      "\u001b[34m[06/24/2021 10:59:09 INFO 139736704735040] Validating that feature_dim agrees with dimensions in training data...\u001b[0m\n",
      "\u001b[34m[06/24/2021 10:59:09 INFO 139736704735040] feature_dim is correct.\u001b[0m\n",
      "\u001b[34m[06/24/2021 10:59:09 INFO 139736704735040] Validating memory limits...\u001b[0m\n",
      "\u001b[34m[06/24/2021 10:59:09 INFO 139736704735040] Available memory in bytes: 15150256128\u001b[0m\n",
      "\u001b[34m[06/24/2021 10:59:09 INFO 139736704735040] Estimated sample size in bytes: 47513600\u001b[0m\n",
      "\u001b[34m[06/24/2021 10:59:09 INFO 139736704735040] Estimated memory needed to build the forest in bytes: 118784000\u001b[0m\n",
      "\u001b[34m[06/24/2021 10:59:09 INFO 139736704735040] Memory limits validated.\u001b[0m\n",
      "\u001b[34m[06/24/2021 10:59:09 INFO 139736704735040] Starting cluster sharing facilities...\u001b[0m\n",
      "\u001b[34m[06/24/2021 10:59:09 INFO 139736704735040] Create Store: dist_async\u001b[0m\n",
      "\u001b[34m[I 21-06-24 10:59:09] >>> starting FTP server on 0.0.0.0:8999, pid=1 <<<\u001b[0m\n",
      "\u001b[34m[06/24/2021 10:59:09 INFO 139735192291072] >>> starting FTP server on 0.0.0.0:8999, pid=1 <<<\u001b[0m\n",
      "\u001b[34m[I 21-06-24 10:59:09] poller: <class 'pyftpdlib.ioloop.Epoll'>\u001b[0m\n",
      "\u001b[34m[06/24/2021 10:59:09 INFO 139735192291072] poller: <class 'pyftpdlib.ioloop.Epoll'>\u001b[0m\n",
      "\u001b[34m[I 21-06-24 10:59:09] masquerade (NAT) address: None\u001b[0m\n",
      "\u001b[34m[06/24/2021 10:59:09 INFO 139735192291072] masquerade (NAT) address: None\u001b[0m\n",
      "\u001b[34m[I 21-06-24 10:59:09] passive ports: None\u001b[0m\n",
      "\u001b[34m[06/24/2021 10:59:09 INFO 139735192291072] passive ports: None\u001b[0m\n",
      "\u001b[34m[I 21-06-24 10:59:09] use sendfile(2): True\u001b[0m\n",
      "\u001b[34m[06/24/2021 10:59:09 INFO 139735192291072] use sendfile(2): True\u001b[0m\n",
      "\u001b[34m[06/24/2021 10:59:10 INFO 139736704735040] Cluster sharing facilities started.\u001b[0m\n",
      "\u001b[34m[06/24/2021 10:59:10 INFO 139736704735040] Verifying all workers are accessible...\u001b[0m\n",
      "\u001b[34m[06/24/2021 10:59:10 INFO 139736704735040] All workers accessible.\u001b[0m\n",
      "\u001b[34m[06/24/2021 10:59:10 INFO 139736704735040] Initializing Sampler...\u001b[0m\n",
      "\u001b[34m[06/24/2021 10:59:10 INFO 139736704735040] Sampler correctly initialized.\u001b[0m\n",
      "\u001b[34m#metrics {\"StartTime\": 1624532349.6435983, \"EndTime\": 1624532350.9757514, \"Dimensions\": {\"Algorithm\": \"RandomCutForest\", \"Host\": \"algo-1\", \"Operation\": \"training\"}, \"Metrics\": {\"initialize.time\": {\"sum\": 1322.6492404937744, \"count\": 1, \"min\": 1322.6492404937744, \"max\": 1322.6492404937744}}}\n",
      "\u001b[0m\n",
      "\u001b[34m#metrics {\"StartTime\": 1624532350.9759686, \"EndTime\": 1624532350.9760277, \"Dimensions\": {\"Algorithm\": \"RandomCutForest\", \"Host\": \"algo-1\", \"Operation\": \"training\", \"Meta\": \"init_train_data_iter\"}, \"Metrics\": {\"Total Records Seen\": {\"sum\": 0.0, \"count\": 1, \"min\": 0, \"max\": 0}, \"Total Batches Seen\": {\"sum\": 0.0, \"count\": 1, \"min\": 0, \"max\": 0}, \"Max Records Seen Between Resets\": {\"sum\": 0.0, \"count\": 1, \"min\": 0, \"max\": 0}, \"Max Batches Seen Between Resets\": {\"sum\": 0.0, \"count\": 1, \"min\": 0, \"max\": 0}, \"Reset Count\": {\"sum\": 0.0, \"count\": 1, \"min\": 0, \"max\": 0}, \"Number of Records Since Last Reset\": {\"sum\": 0.0, \"count\": 1, \"min\": 0, \"max\": 0}, \"Number of Batches Since Last Reset\": {\"sum\": 0.0, \"count\": 1, \"min\": 0, \"max\": 0}}}\n",
      "\u001b[0m\n",
      "\u001b[34m[2021-06-24 10:59:10.981] [tensorio] [info] epoch_stats={\"data_pipeline\": \"/opt/ml/input/data/train\", \"epoch\": 0, \"duration\": 1337, \"num_examples\": 1, \"num_bytes\": 956000}\u001b[0m\n",
      "\u001b[34m[06/24/2021 10:59:10 INFO 139736704735040] Sampling training data...\u001b[0m\n"
     ]
    },
    {
     "name": "stdout",
     "output_type": "stream",
     "text": [
      "\n",
      "2021-06-24 10:59:23 Uploading - Uploading generated training model\n",
      "2021-06-24 10:59:23 Completed - Training job completed\n",
      "\u001b[34m[2021-06-24 10:59:11.707] [tensorio] [info] epoch_stats={\"data_pipeline\": \"/opt/ml/input/data/train\", \"epoch\": 1, \"duration\": 725, \"num_examples\": 346, \"num_bytes\": 330604876}\u001b[0m\n",
      "\u001b[34m[06/24/2021 10:59:11 INFO 139736704735040] Sampling training data completed.\u001b[0m\n",
      "\u001b[34m#metrics {\"StartTime\": 1624532350.975899, \"EndTime\": 1624532351.7561133, \"Dimensions\": {\"Algorithm\": \"RandomCutForest\", \"Host\": \"algo-1\", \"Operation\": \"training\"}, \"Metrics\": {\"epochs\": {\"sum\": 1.0, \"count\": 1, \"min\": 1, \"max\": 1}, \"update.time\": {\"sum\": 774.5928764343262, \"count\": 1, \"min\": 774.5928764343262, \"max\": 774.5928764343262}}}\n",
      "\u001b[0m\n",
      "\u001b[34m[06/24/2021 10:59:11 INFO 139736704735040] Early stop condition met. Stopping training.\u001b[0m\n",
      "\u001b[34m[06/24/2021 10:59:11 INFO 139736704735040] #progress_metric: host=algo-1, completed 100 % epochs\u001b[0m\n",
      "\u001b[34m#metrics {\"StartTime\": 1624532350.9814672, \"EndTime\": 1624532351.756615, \"Dimensions\": {\"Algorithm\": \"RandomCutForest\", \"Host\": \"algo-1\", \"Operation\": \"training\", \"epoch\": 0, \"Meta\": \"training_data_iter\"}, \"Metrics\": {\"Total Records Seen\": {\"sum\": 345821.0, \"count\": 1, \"min\": 345821, \"max\": 345821}, \"Total Batches Seen\": {\"sum\": 346.0, \"count\": 1, \"min\": 346, \"max\": 346}, \"Max Records Seen Between Resets\": {\"sum\": 345821.0, \"count\": 1, \"min\": 345821, \"max\": 345821}, \"Max Batches Seen Between Resets\": {\"sum\": 346.0, \"count\": 1, \"min\": 346, \"max\": 346}, \"Reset Count\": {\"sum\": 1.0, \"count\": 1, \"min\": 1, \"max\": 1}, \"Number of Records Since Last Reset\": {\"sum\": 345821.0, \"count\": 1, \"min\": 345821, \"max\": 345821}, \"Number of Batches Since Last Reset\": {\"sum\": 346.0, \"count\": 1, \"min\": 346, \"max\": 346}}}\n",
      "\u001b[0m\n",
      "\u001b[34m[06/24/2021 10:59:11 INFO 139736704735040] #throughput_metric: host=algo-1, train throughput=446051.67006138415 records/second\u001b[0m\n",
      "\u001b[34m[06/24/2021 10:59:11 INFO 139736704735040] Master node: building Random Cut Forest...\u001b[0m\n",
      "\u001b[34m[06/24/2021 10:59:11 INFO 139736704735040] Gathering samples...\u001b[0m\n",
      "\u001b[34m[06/24/2021 10:59:11 INFO 139736704735040] 25600 samples gathered\u001b[0m\n",
      "\u001b[34m[06/24/2021 10:59:11 INFO 139736704735040] Building Random Cut Forest...\u001b[0m\n",
      "\u001b[34m[06/24/2021 10:59:11 INFO 139736704735040] Random Cut Forest built: \n",
      "\u001b[0m\n",
      "\u001b[34mForestInfo{num_trees: 50, num_samples_in_forest: 25600, num_samples_per_tree: 512, sample_dim: 116, shingle_size: 1, trees_num_nodes: [453, 467, 453, 451, 455, 463, 495, 465, 471, 461, 441, 499, 463, 453, 501, 503, 437, 445, 449, 459, 479, 461, 461, 481, 459, 491, 461, 445, 459, 469, 479, 453, 501, 479, 447, 475, 485, 441, 461, 465, 513, 435, 423, 451, 485, 463, 427, 455, 473, 453, ], trees_depth: [29, 36, 32, 22, 28, 30, 36, 23, 26, 31, 23, 27, 29, 25, 28, 28, 24, 29, 32, 25, 28, 25, 25, 24, 29, 34, 22, 24, 24, 25, 24, 25, 33, 26, 26, 29, 25, 26, 27, 23, 31, 31, 35, 27, 33, 25, 22, 26, 29, 23, ], max_num_nodes: 513, min_num_nodes: 423, avg_num_nodes: 464, max_tree_depth: 36, min_tree_depth: 22, avg_tree_depth: 27, mem_size: 45128464}\u001b[0m\n",
      "\u001b[34m#metrics {\"StartTime\": 1624532351.756284, \"EndTime\": 1624532351.9307454, \"Dimensions\": {\"Algorithm\": \"RandomCutForest\", \"Host\": \"algo-1\", \"Operation\": \"training\"}, \"Metrics\": {\"fit_model.time\": {\"sum\": 161.35334968566895, \"count\": 1, \"min\": 161.35334968566895, \"max\": 161.35334968566895}, \"model.bytes\": {\"sum\": 45128464.0, \"count\": 1, \"min\": 45128464, \"max\": 45128464}, \"finalize.time\": {\"sum\": 173.68507385253906, \"count\": 1, \"min\": 173.68507385253906, \"max\": 173.68507385253906}}}\n",
      "\u001b[0m\n",
      "\u001b[34m[06/24/2021 10:59:12 INFO 139736704735040] Master node: Serializing the RandomCutForest model\u001b[0m\n",
      "\u001b[34m#metrics {\"StartTime\": 1624532351.9308522, \"EndTime\": 1624532352.649112, \"Dimensions\": {\"Algorithm\": \"RandomCutForest\", \"Host\": \"algo-1\", \"Operation\": \"training\"}, \"Metrics\": {\"serialize_model.time\": {\"sum\": 718.1835174560547, \"count\": 1, \"min\": 718.1835174560547, \"max\": 718.1835174560547}}}\n",
      "\u001b[0m\n",
      "\u001b[34m[06/24/2021 10:59:12 INFO 139736704735040] Test data is not provided.\u001b[0m\n",
      "\u001b[34m#metrics {\"StartTime\": 1624532352.649229, \"EndTime\": 1624532352.6493685, \"Dimensions\": {\"Algorithm\": \"RandomCutForest\", \"Host\": \"algo-1\", \"Operation\": \"training\"}, \"Metrics\": {\"setuptime\": {\"sum\": 25.545597076416016, \"count\": 1, \"min\": 25.545597076416016, \"max\": 25.545597076416016}, \"totaltime\": {\"sum\": 3043.6553955078125, \"count\": 1, \"min\": 3043.6553955078125, \"max\": 3043.6553955078125}}}\n",
      "\u001b[0m\n",
      "Training seconds: 75\n",
      "Billable seconds: 75\n"
     ]
    }
   ],
   "source": [
    "from sagemaker import RandomCutForest\n",
    "\n",
    "prefix = 'anomaly'\n",
    "\n",
    "# specify general training job information\n",
    "rcf = RandomCutForest(\n",
    "    role=role,\n",
    "    instance_count=1,\n",
    "    instance_type=\"ml.m4.xlarge\",\n",
    "    data_location=f\"s3://{bucket}/{prefix}/\",\n",
    "    output_path=f\"s3://{bucket}/{prefix}/output\",\n",
    "    num_samples_per_tree=512,\n",
    "    num_trees=50,\n",
    "    eval_metrics='f1'\n",
    ")\n",
    "\n",
    "#https://sagemaker-examples.readthedocs.io/en/latest/introduction_to_amazon_algorithms/random_cut_forest/random_cut_forest.html\n",
    "data_train = pd.read_pickle('X_train.pkl')\n",
    "\n",
    "# automatically upload the training data to S3 and run the training job\n",
    "rcf.fit(rcf.record_set(data_train.to_numpy()))"
   ]
  },
  {
   "cell_type": "code",
   "execution_count": null,
   "id": "cd137768",
   "metadata": {},
   "outputs": [],
   "source": [
    "print(f\"Training job name: {rcf.latest_training_job.job_name}\")"
   ]
  },
  {
   "cell_type": "code",
   "execution_count": null,
   "id": "860a6434",
   "metadata": {},
   "outputs": [],
   "source": [
    "rcf_transformer = rcf.transformer(instance_count = 1, instance_type = 'ml.m4.xlarge')\n",
    "\n",
    "# TODO: Start the transform job. Make sure to specify the content type and the split type of the test data.\n",
    "rcf_transformer.transform(test_location, content_type='text/csv', split_type='Line')\n",
    "rcf_transformer.wait()\n"
   ]
  },
  {
   "cell_type": "markdown",
   "id": "4aadd17d",
   "metadata": {},
   "source": [
    "## Analyzing results and set treshold"
   ]
  },
  {
   "cell_type": "code",
   "execution_count": null,
   "id": "32095a32",
   "metadata": {},
   "outputs": [],
   "source": [
    "data_dir = 'data'\n",
    "# copy result on S3 to local notebook instance\n",
    "!aws s3 cp --recursive $rcf_transformer.output_path $data_dir"
   ]
  },
  {
   "cell_type": "code",
   "execution_count": null,
   "id": "269cd027",
   "metadata": {},
   "outputs": [],
   "source": [
    "data_dir = 'data'\n",
    "predictions_raw = pd.read_csv(os.path.join(data_dir, 'test.csv.out'), sep=\",\", header=None)\n",
    "print(predictions_raw)"
   ]
  },
  {
   "cell_type": "code",
   "execution_count": null,
   "id": "f89d209a",
   "metadata": {},
   "outputs": [],
   "source": [
    "def get_scores(predictions):\n",
    "    pred = np.empty(predictions.shape[0])\n",
    "    \n",
    "    for i in range(predictions.shape[0]):\n",
    "        pred[i] = predictions.iloc[i][0].split(\":\",1)[1][:-1]\n",
    "        \n",
    "    return pred"
   ]
  },
  {
   "cell_type": "code",
   "execution_count": null,
   "id": "161345ef",
   "metadata": {},
   "outputs": [],
   "source": [
    "pred = get_scores(predictions_raw)"
   ]
  },
  {
   "cell_type": "code",
   "execution_count": null,
   "id": "9dafe9e5",
   "metadata": {},
   "outputs": [],
   "source": [
    "pred_df = pd.DataFrame(pred)\n",
    "pred_df.describe()"
   ]
  },
  {
   "cell_type": "code",
   "execution_count": null,
   "id": "199ef6ec",
   "metadata": {},
   "outputs": [],
   "source": [
    "#distribution\n",
    "import matplotlib.pyplot as plt\n",
    "plt.xlabel('Anomaly Score')\n",
    "pred_df[0].plot.hist(bins=200, range=[0, 2])"
   ]
  },
  {
   "cell_type": "code",
   "execution_count": null,
   "id": "ec968a6f",
   "metadata": {},
   "outputs": [],
   "source": [
    "y_test = pd.read_pickle(\"y_test.pkl\")\n",
    "y_test = pd.DataFrame({'label': y_test, 'score': pred})"
   ]
  },
  {
   "cell_type": "code",
   "execution_count": null,
   "id": "b8b24c4d",
   "metadata": {},
   "outputs": [],
   "source": [
    "y_test"
   ]
  },
  {
   "cell_type": "code",
   "execution_count": null,
   "id": "ceffcf20",
   "metadata": {},
   "outputs": [],
   "source": [
    "y_test.groupby(by='label').describe()"
   ]
  },
  {
   "cell_type": "code",
   "execution_count": null,
   "id": "35e332bf",
   "metadata": {},
   "outputs": [],
   "source": [
    "fpr, tpr, thresholds = roc_curve(y_test['label'].values, y_test['score'].values)\n",
    "roc_auc = auc(fpr, tpr)\n",
    "\n",
    "plt.figure(figsize=(10,10))\n",
    "plt.plot(fpr, tpr, lw=1, label='ROC curve (area = %0.2f)' % roc_auc)\n",
    "plt.plot([0, 1], [0, 1], color='lime', linestyle='--')\n",
    "plt.xlim([0.0, 1.0])\n",
    "plt.ylim([0.0, 1.05])\n",
    "plt.xlabel('False Positive Rate')\n",
    "plt.ylabel('True Positive Rate')\n",
    "plt.title('Receiver operating characteristic')\n",
    "plt.legend(loc=\"lower right\")\n",
    "plt.show()"
   ]
  },
  {
   "cell_type": "markdown",
   "id": "af5fbbf3",
   "metadata": {},
   "source": [
    "## Inference "
   ]
  },
  {
   "cell_type": "code",
   "execution_count": null,
   "id": "9cb86c0a",
   "metadata": {},
   "outputs": [],
   "source": []
  },
  {
   "cell_type": "code",
   "execution_count": null,
   "id": "b2e476c2",
   "metadata": {},
   "outputs": [],
   "source": [
    "rcf_inference = rcf.deploy(initial_instance_count=1, instance_type=\"ml.m4.xlarge\")\n",
    "print(f\"Endpoint name: {rcf_inference.endpoint}\")"
   ]
  },
  {
   "cell_type": "code",
   "execution_count": null,
   "id": "5825b474",
   "metadata": {},
   "outputs": [],
   "source": [
    "# only work vor old sagemaker version\n",
    "#from sagemaker.predictor import csv_serializer\n",
    "#\n",
    "#rcf_inference.content_type = 'text/csv'\n",
    "#rcf_inference.serializer = csv_serializer"
   ]
  },
  {
   "cell_type": "markdown",
   "id": "d5d1ea7a",
   "metadata": {},
   "source": [
    "## Data Serialization"
   ]
  },
  {
   "cell_type": "code",
   "execution_count": null,
   "id": "6fe0a1e8",
   "metadata": {},
   "outputs": [],
   "source": [
    "from sagemaker.serializers import CSVSerializer\n",
    "from sagemaker.deserializers import JSONDeserializer\n",
    "\n",
    "rcf_inference.serializer = CSVSerializer()\n",
    "rcf_inference.deserializer = JSONDeserializer()"
   ]
  },
  {
   "cell_type": "code",
   "execution_count": null,
   "id": "b1711ca9",
   "metadata": {},
   "outputs": [],
   "source": [
    "X_test = pd.read_pickle(\"X_test.pkl\")\n",
    "y_test = pd.read_pickle(\"y_test.pkl\")"
   ]
  },
  {
   "cell_type": "code",
   "execution_count": null,
   "id": "181c4efe",
   "metadata": {},
   "outputs": [],
   "source": [
    "X_test.values"
   ]
  },
  {
   "cell_type": "code",
   "execution_count": null,
   "id": "e131ea54",
   "metadata": {},
   "outputs": [],
   "source": [
    "#X_test_numpy = X_test.values.to_numpy().reshape(-1, 1)\n",
    "X_test_numpy = X_test.values.reshape(-1, 1)\n",
    "#print(X_test_numpy[:6])\n",
    "results = rcf_inference.predict(\n",
    "    X_test_numpy, initial_args={\"ContentType\": \"text/csv\", \"Accept\": \"application/json\"}\n",
    ")"
   ]
  },
  {
   "cell_type": "markdown",
   "id": "80097a6f",
   "metadata": {},
   "source": [
    "## Predicion & Anomaly Scores"
   ]
  },
  {
   "cell_type": "code",
   "execution_count": null,
   "id": "d8fd4a0f",
   "metadata": {},
   "outputs": [],
   "source": [
    "results = rcf_inference.predict(X_test_numpy)\n",
    "scores = [entry[\"score\"] for entry in results[\"scores\"]]\n",
    "\n",
    "# add scores to taxi data frame and print first few values\n",
    "y_test_predict = pd.Series(scores, index=X_test.index)\n",
    "y_test_predict.head()"
   ]
  }
 ],
 "metadata": {
  "kernelspec": {
   "display_name": "conda_python3",
   "language": "python",
   "name": "conda_python3"
  },
  "language_info": {
   "codemirror_mode": {
    "name": "ipython",
    "version": 3
   },
   "file_extension": ".py",
   "mimetype": "text/x-python",
   "name": "python",
   "nbconvert_exporter": "python",
   "pygments_lexer": "ipython3",
   "version": "3.6.13"
  }
 },
 "nbformat": 4,
 "nbformat_minor": 5
}
