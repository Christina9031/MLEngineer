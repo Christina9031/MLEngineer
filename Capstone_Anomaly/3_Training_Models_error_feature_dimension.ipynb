{
 "cells": [
  {
   "cell_type": "code",
   "execution_count": 1,
   "id": "b48e43b0",
   "metadata": {},
   "outputs": [],
   "source": [
    "import pandas as pd\n",
    "import boto3\n",
    "import sagemaker\n",
    "import os"
   ]
  },
  {
   "cell_type": "code",
   "execution_count": 2,
   "id": "69aa3447",
   "metadata": {},
   "outputs": [],
   "source": [
    "# session and role\n",
    "sagemaker_session = sagemaker.Session()\n",
    "role = sagemaker.get_execution_role()\n",
    "\n",
    "# create an S3 bucket\n",
    "bucket = sagemaker_session.default_bucket()"
   ]
  },
  {
   "cell_type": "markdown",
   "id": "9864d8d3",
   "metadata": {},
   "source": [
    "## Check if data is available at S3"
   ]
  },
  {
   "cell_type": "code",
   "execution_count": 3,
   "id": "2dc244ea",
   "metadata": {},
   "outputs": [
    {
     "name": "stdout",
     "output_type": "stream",
     "text": [
      "anomaly/RandomCutForest-2021-06-22-10-27-23-663/.amazon.manifest\n",
      "anomaly/RandomCutForest-2021-06-22-10-27-23-663/matrix_0.pbr\n",
      "anomaly/output/randomcutforest-2021-06-22-10-34-28-100/output/model.tar.gz\n",
      "anomaly/output/randomcutforest-2021-06-22-10-34-28-100/profiler-output/framework/training_job_end.ts\n",
      "anomaly/output/randomcutforest-2021-06-22-10-34-28-100/profiler-output/system/incremental/2021062210/1624358220.algo-1.json\n",
      "anomaly/output/randomcutforest-2021-06-22-10-34-28-100/profiler-output/system/incremental/2021062210/1624358280.algo-1.json\n",
      "anomaly/output/randomcutforest-2021-06-22-10-34-28-100/profiler-output/system/incremental/2021062210/1624358340.algo-1.json\n",
      "anomaly/output/randomcutforest-2021-06-22-10-34-28-100/profiler-output/system/training_job_end.ts\n",
      "anomaly/output/randomcutforest-2021-06-22-10-34-28-100/rule-output/ProfilerReport-1624358068/profiler-output/profiler-report.html\n",
      "anomaly/output/randomcutforest-2021-06-22-10-34-28-100/rule-output/ProfilerReport-1624358068/profiler-output/profiler-report.ipynb\n",
      "anomaly/output/randomcutforest-2021-06-22-10-34-28-100/rule-output/ProfilerReport-1624358068/profiler-output/profiler-reports/BatchSize.json\n",
      "anomaly/output/randomcutforest-2021-06-22-10-34-28-100/rule-output/ProfilerReport-1624358068/profiler-output/profiler-reports/CPUBottleneck.json\n",
      "anomaly/output/randomcutforest-2021-06-22-10-34-28-100/rule-output/ProfilerReport-1624358068/profiler-output/profiler-reports/Dataloader.json\n",
      "anomaly/output/randomcutforest-2021-06-22-10-34-28-100/rule-output/ProfilerReport-1624358068/profiler-output/profiler-reports/GPUMemoryIncrease.json\n",
      "anomaly/output/randomcutforest-2021-06-22-10-34-28-100/rule-output/ProfilerReport-1624358068/profiler-output/profiler-reports/IOBottleneck.json\n",
      "anomaly/output/randomcutforest-2021-06-22-10-34-28-100/rule-output/ProfilerReport-1624358068/profiler-output/profiler-reports/LoadBalancing.json\n",
      "anomaly/output/randomcutforest-2021-06-22-10-34-28-100/rule-output/ProfilerReport-1624358068/profiler-output/profiler-reports/LowGPUUtilization.json\n",
      "anomaly/output/randomcutforest-2021-06-22-10-34-28-100/rule-output/ProfilerReport-1624358068/profiler-output/profiler-reports/MaxInitializationTime.json\n",
      "anomaly/output/randomcutforest-2021-06-22-10-34-28-100/rule-output/ProfilerReport-1624358068/profiler-output/profiler-reports/OverallFrameworkMetrics.json\n",
      "anomaly/output/randomcutforest-2021-06-22-10-34-28-100/rule-output/ProfilerReport-1624358068/profiler-output/profiler-reports/OverallSystemUsage.json\n",
      "anomaly/output/randomcutforest-2021-06-22-10-34-28-100/rule-output/ProfilerReport-1624358068/profiler-output/profiler-reports/StepOutlier.json\n",
      "anomaly/test.csv\n",
      "anomaly/train.csv\n",
      "anomaly/val.csv\n"
     ]
    }
   ],
   "source": [
    "# set prefix, a descriptive name for a directory  \n",
    "prefix = 'anomaly'\n",
    "\n",
    "for obj in boto3.resource('s3').Bucket(bucket).objects.all():\n",
    "    print(obj.key)"
   ]
  },
  {
   "cell_type": "code",
   "execution_count": 4,
   "id": "dfe0c6de",
   "metadata": {},
   "outputs": [],
   "source": [
    "# set locations from variables from data preperation notebook\n",
    "train_location = 's3://sagemaker-us-east-1-517714493426/anomaly/train.csv'\n",
    "val_location = 's3://sagemaker-us-east-1-517714493426/anomaly/val.csv'\n",
    "test_location = 's3://sagemaker-us-east-1-517714493426/anomaly/test.csv'"
   ]
  },
  {
   "cell_type": "code",
   "execution_count": 5,
   "id": "9b2f8aff",
   "metadata": {},
   "outputs": [
    {
     "name": "stdout",
     "output_type": "stream",
     "text": [
      "sagemaker-us-east-1-517714493426\n"
     ]
    }
   ],
   "source": [
    "print(bucket)"
   ]
  },
  {
   "cell_type": "markdown",
   "id": "f282b89c",
   "metadata": {},
   "source": [
    "## Train a Model with Sagemaker built-in function Random Cut Forests"
   ]
  },
  {
   "cell_type": "code",
   "execution_count": 6,
   "id": "cd377829",
   "metadata": {},
   "outputs": [],
   "source": [
    "from sagemaker import RandomCutForest\n",
    "\n",
    "# specify general training job information\n",
    "rcf = RandomCutForest(\n",
    "    role=role,\n",
    "    instance_count=1,\n",
    "    instance_type=\"ml.m4.xlarge\",\n",
    "    data_location=f\"s3://{bucket}/{prefix}/\",\n",
    "    output_path=f\"s3://{bucket}/{prefix}/output\",\n",
    "    num_samples_per_tree=512,\n",
    "    num_trees=50,\n",
    ")\n",
    "\n",
    "\n",
    "# explicitly specify \"ShardedByS3Key\" distribution type\n",
    "#train_data = sagemaker.inputs.s3_input(s3_data=train_location, content_type='text/csv;label_size=0', distribution='ShardedByS3Key')\n",
    "#train_data = sagemaker.inputs.TrainingInput(s3_data=train_location, content_type='csv', distribution='ShardedByS3Key')\n",
    "#val_data = sagemaker.inputs.TrainingInput(s3_data=val_location, content_type='csv', distribution='FullyReplicated')  \n",
    "# run the training job on input data stored in S3\n",
    "#rcf.fit({'train': train_data, 'test': val_data})\n",
    "\n",
    "# doesn't work, documentation isn't up to date -> s3_input -> TrainingInput\n",
    "# but still get attribute error: 'dict' object has no attribute 'feature_dim'\n",
    "\n",
    "#https://docs.aws.amazon.com/sagemaker/latest/dg/randomcutforest.html#rcf-input_output\n",
    "\n"
   ]
  },
  {
   "cell_type": "code",
   "execution_count": 7,
   "id": "79b6a788",
   "metadata": {},
   "outputs": [
    {
     "name": "stderr",
     "output_type": "stream",
     "text": [
      "Defaulting to the only supported framework/algorithm version: 1. Ignoring framework/algorithm version: 1.\n",
      "Defaulting to the only supported framework/algorithm version: 1. Ignoring framework/algorithm version: 1.\n"
     ]
    },
    {
     "name": "stdout",
     "output_type": "stream",
     "text": [
      "2021-06-22 11:41:49 Starting - Starting the training job...\n",
      "2021-06-22 11:41:56 Starting - Launching requested ML instancesProfilerReport-1624362109: InProgress\n",
      "......\n",
      "2021-06-22 11:43:10 Starting - Preparing the instances for training.........\n",
      "2021-06-22 11:44:50 Downloading - Downloading input data...\n",
      "2021-06-22 11:45:19 Training - Downloading the training image...\n",
      "2021-06-22 11:45:51 Training - Training image download completed. Training in progress.\u001b[34mDocker entrypoint called with argument(s): train\u001b[0m\n",
      "\u001b[34mRunning default environment configuration script\u001b[0m\n",
      "\u001b[34m[06/22/2021 11:45:45 INFO 140524976277312] Reading default configuration from /opt/amazon/lib/python3.7/site-packages/algorithm/resources/default-conf.json: {'num_samples_per_tree': 256, 'num_trees': 100, 'force_dense': 'true', 'eval_metrics': ['accuracy', 'precision_recall_fscore'], 'epochs': 1, 'mini_batch_size': 1000, '_log_level': 'info', '_kvstore': 'dist_async', '_num_kv_servers': 'auto', '_num_gpus': 'auto', '_tuning_objective_metric': '', '_ftp_port': 8999}\u001b[0m\n",
      "\u001b[34m[06/22/2021 11:45:45 INFO 140524976277312] Merging with provided configuration from /opt/ml/input/config/hyperparameters.json: {'num_trees': '50', 'num_samples_per_tree': '512', 'feature_dim': '1', 'mini_batch_size': '1000'}\u001b[0m\n",
      "\u001b[34m[06/22/2021 11:45:45 INFO 140524976277312] Final configuration: {'num_samples_per_tree': '512', 'num_trees': '50', 'force_dense': 'true', 'eval_metrics': ['accuracy', 'precision_recall_fscore'], 'epochs': 1, 'mini_batch_size': '1000', '_log_level': 'info', '_kvstore': 'dist_async', '_num_kv_servers': 'auto', '_num_gpus': 'auto', '_tuning_objective_metric': '', '_ftp_port': 8999, 'feature_dim': '1'}\u001b[0m\n",
      "\u001b[34m[06/22/2021 11:45:45 WARNING 140524976277312] Loggers have already been setup.\u001b[0m\n",
      "\u001b[34m[06/22/2021 11:45:45 INFO 140524976277312] Launching parameter server for role scheduler\u001b[0m\n",
      "\u001b[34m[06/22/2021 11:45:45 INFO 140524976277312] {'ENVROOT': '/opt/amazon', 'PROTOCOL_BUFFERS_PYTHON_IMPLEMENTATION': 'cpp', 'HOSTNAME': 'ip-10-2-95-134.ec2.internal', 'TRAINING_JOB_NAME': 'randomcutforest-2021-06-22-11-41-49-152', 'NVIDIA_REQUIRE_CUDA': 'cuda>=9.0', 'TRAINING_JOB_ARN': 'arn:aws:sagemaker:us-east-1:517714493426:training-job/randomcutforest-2021-06-22-11-41-49-152', 'AWS_CONTAINER_CREDENTIALS_RELATIVE_URI': '/v2/credentials/66483e62-f0e5-40b7-9f47-ac0dd1d7bef6', 'CANONICAL_ENVROOT': '/opt/amazon', 'PYTHONUNBUFFERED': 'TRUE', 'NVIDIA_VISIBLE_DEVICES': 'void', 'LD_LIBRARY_PATH': '/opt/amazon/lib/python3.7/site-packages/cv2/../../../../lib:/usr/local/nvidia/lib64:/opt/amazon/lib', 'MXNET_KVSTORE_BIGARRAY_BOUND': '400000000', 'NVIDIA_DRIVER_CAPABILITIES': 'compute,utility', 'AWS_EXECUTION_ENV': 'AWS_ECS_EC2', 'PATH': '/opt/amazon/bin:/usr/local/nvidia/bin:/usr/local/sbin:/usr/local/bin:/usr/sbin:/usr/bin:/sbin:/bin:/opt/amazon/bin:/opt/amazon/bin', 'PWD': '/', 'LANG': 'en_US.utf8', 'AWS_REGION': 'us-east-1', 'SAGEMAKER_METRICS_DIRECTORY': '/opt/ml/output/metrics/sagemaker', 'HOME': '/root', 'SHLVL': '1', 'PROTOCOL_BUFFERS_PYTHON_IMPLEMENTATION_VERSION': '2', 'OMP_NUM_THREADS': '2', 'ECS_CONTAINER_METADATA_URI': 'http://169.254.170.2/v3/ed917917-a91f-4a54-a62b-90210e5cb976', 'DMLC_INTERFACE': 'eth0', 'ECS_CONTAINER_METADATA_URI_V4': 'http://169.254.170.2/v4/ed917917-a91f-4a54-a62b-90210e5cb976', 'SAGEMAKER_HTTP_PORT': '8080', 'SAGEMAKER_DATA_PATH': '/opt/ml', 'KMP_DUPLICATE_LIB_OK': 'True', 'KMP_INIT_AT_FORK': 'FALSE'}\u001b[0m\n",
      "\u001b[34m[06/22/2021 11:45:45 INFO 140524976277312] envs={'ENVROOT': '/opt/amazon', 'PROTOCOL_BUFFERS_PYTHON_IMPLEMENTATION': 'cpp', 'HOSTNAME': 'ip-10-2-95-134.ec2.internal', 'TRAINING_JOB_NAME': 'randomcutforest-2021-06-22-11-41-49-152', 'NVIDIA_REQUIRE_CUDA': 'cuda>=9.0', 'TRAINING_JOB_ARN': 'arn:aws:sagemaker:us-east-1:517714493426:training-job/randomcutforest-2021-06-22-11-41-49-152', 'AWS_CONTAINER_CREDENTIALS_RELATIVE_URI': '/v2/credentials/66483e62-f0e5-40b7-9f47-ac0dd1d7bef6', 'CANONICAL_ENVROOT': '/opt/amazon', 'PYTHONUNBUFFERED': 'TRUE', 'NVIDIA_VISIBLE_DEVICES': 'void', 'LD_LIBRARY_PATH': '/opt/amazon/lib/python3.7/site-packages/cv2/../../../../lib:/usr/local/nvidia/lib64:/opt/amazon/lib', 'MXNET_KVSTORE_BIGARRAY_BOUND': '400000000', 'NVIDIA_DRIVER_CAPABILITIES': 'compute,utility', 'AWS_EXECUTION_ENV': 'AWS_ECS_EC2', 'PATH': '/opt/amazon/bin:/usr/local/nvidia/bin:/usr/local/sbin:/usr/local/bin:/usr/sbin:/usr/bin:/sbin:/bin:/opt/amazon/bin:/opt/amazon/bin', 'PWD': '/', 'LANG': 'en_US.utf8', 'AWS_REGION': 'us-east-1', 'SAGEMAKER_METRICS_DIRECTORY': '/opt/ml/output/metrics/sagemaker', 'HOME': '/root', 'SHLVL': '1', 'PROTOCOL_BUFFERS_PYTHON_IMPLEMENTATION_VERSION': '2', 'OMP_NUM_THREADS': '2', 'ECS_CONTAINER_METADATA_URI': 'http://169.254.170.2/v3/ed917917-a91f-4a54-a62b-90210e5cb976', 'DMLC_INTERFACE': 'eth0', 'ECS_CONTAINER_METADATA_URI_V4': 'http://169.254.170.2/v4/ed917917-a91f-4a54-a62b-90210e5cb976', 'SAGEMAKER_HTTP_PORT': '8080', 'SAGEMAKER_DATA_PATH': '/opt/ml', 'KMP_DUPLICATE_LIB_OK': 'True', 'KMP_INIT_AT_FORK': 'FALSE', 'DMLC_ROLE': 'scheduler', 'DMLC_PS_ROOT_URI': '10.2.95.134', 'DMLC_PS_ROOT_PORT': '9000', 'DMLC_NUM_SERVER': '1', 'DMLC_NUM_WORKER': '1'}\u001b[0m\n",
      "\u001b[34m[06/22/2021 11:45:45 INFO 140524976277312] Launching parameter server for role server\u001b[0m\n",
      "\u001b[34m[06/22/2021 11:45:45 INFO 140524976277312] {'ENVROOT': '/opt/amazon', 'PROTOCOL_BUFFERS_PYTHON_IMPLEMENTATION': 'cpp', 'HOSTNAME': 'ip-10-2-95-134.ec2.internal', 'TRAINING_JOB_NAME': 'randomcutforest-2021-06-22-11-41-49-152', 'NVIDIA_REQUIRE_CUDA': 'cuda>=9.0', 'TRAINING_JOB_ARN': 'arn:aws:sagemaker:us-east-1:517714493426:training-job/randomcutforest-2021-06-22-11-41-49-152', 'AWS_CONTAINER_CREDENTIALS_RELATIVE_URI': '/v2/credentials/66483e62-f0e5-40b7-9f47-ac0dd1d7bef6', 'CANONICAL_ENVROOT': '/opt/amazon', 'PYTHONUNBUFFERED': 'TRUE', 'NVIDIA_VISIBLE_DEVICES': 'void', 'LD_LIBRARY_PATH': '/opt/amazon/lib/python3.7/site-packages/cv2/../../../../lib:/usr/local/nvidia/lib64:/opt/amazon/lib', 'MXNET_KVSTORE_BIGARRAY_BOUND': '400000000', 'NVIDIA_DRIVER_CAPABILITIES': 'compute,utility', 'AWS_EXECUTION_ENV': 'AWS_ECS_EC2', 'PATH': '/opt/amazon/bin:/usr/local/nvidia/bin:/usr/local/sbin:/usr/local/bin:/usr/sbin:/usr/bin:/sbin:/bin:/opt/amazon/bin:/opt/amazon/bin', 'PWD': '/', 'LANG': 'en_US.utf8', 'AWS_REGION': 'us-east-1', 'SAGEMAKER_METRICS_DIRECTORY': '/opt/ml/output/metrics/sagemaker', 'HOME': '/root', 'SHLVL': '1', 'PROTOCOL_BUFFERS_PYTHON_IMPLEMENTATION_VERSION': '2', 'OMP_NUM_THREADS': '2', 'ECS_CONTAINER_METADATA_URI': 'http://169.254.170.2/v3/ed917917-a91f-4a54-a62b-90210e5cb976', 'DMLC_INTERFACE': 'eth0', 'ECS_CONTAINER_METADATA_URI_V4': 'http://169.254.170.2/v4/ed917917-a91f-4a54-a62b-90210e5cb976', 'SAGEMAKER_HTTP_PORT': '8080', 'SAGEMAKER_DATA_PATH': '/opt/ml', 'KMP_DUPLICATE_LIB_OK': 'True', 'KMP_INIT_AT_FORK': 'FALSE'}\u001b[0m\n",
      "\u001b[34m[06/22/2021 11:45:45 INFO 140524976277312] envs={'ENVROOT': '/opt/amazon', 'PROTOCOL_BUFFERS_PYTHON_IMPLEMENTATION': 'cpp', 'HOSTNAME': 'ip-10-2-95-134.ec2.internal', 'TRAINING_JOB_NAME': 'randomcutforest-2021-06-22-11-41-49-152', 'NVIDIA_REQUIRE_CUDA': 'cuda>=9.0', 'TRAINING_JOB_ARN': 'arn:aws:sagemaker:us-east-1:517714493426:training-job/randomcutforest-2021-06-22-11-41-49-152', 'AWS_CONTAINER_CREDENTIALS_RELATIVE_URI': '/v2/credentials/66483e62-f0e5-40b7-9f47-ac0dd1d7bef6', 'CANONICAL_ENVROOT': '/opt/amazon', 'PYTHONUNBUFFERED': 'TRUE', 'NVIDIA_VISIBLE_DEVICES': 'void', 'LD_LIBRARY_PATH': '/opt/amazon/lib/python3.7/site-packages/cv2/../../../../lib:/usr/local/nvidia/lib64:/opt/amazon/lib', 'MXNET_KVSTORE_BIGARRAY_BOUND': '400000000', 'NVIDIA_DRIVER_CAPABILITIES': 'compute,utility', 'AWS_EXECUTION_ENV': 'AWS_ECS_EC2', 'PATH': '/opt/amazon/bin:/usr/local/nvidia/bin:/usr/local/sbin:/usr/local/bin:/usr/sbin:/usr/bin:/sbin:/bin:/opt/amazon/bin:/opt/amazon/bin', 'PWD': '/', 'LANG': 'en_US.utf8', 'AWS_REGION': 'us-east-1', 'SAGEMAKER_METRICS_DIRECTORY': '/opt/ml/output/metrics/sagemaker', 'HOME': '/root', 'SHLVL': '1', 'PROTOCOL_BUFFERS_PYTHON_IMPLEMENTATION_VERSION': '2', 'OMP_NUM_THREADS': '2', 'ECS_CONTAINER_METADATA_URI': 'http://169.254.170.2/v3/ed917917-a91f-4a54-a62b-90210e5cb976', 'DMLC_INTERFACE': 'eth0', 'ECS_CONTAINER_METADATA_URI_V4': 'http://169.254.170.2/v4/ed917917-a91f-4a54-a62b-90210e5cb976', 'SAGEMAKER_HTTP_PORT': '8080', 'SAGEMAKER_DATA_PATH': '/opt/ml', 'KMP_DUPLICATE_LIB_OK': 'True', 'KMP_INIT_AT_FORK': 'FALSE', 'DMLC_ROLE': 'server', 'DMLC_PS_ROOT_URI': '10.2.95.134', 'DMLC_PS_ROOT_PORT': '9000', 'DMLC_NUM_SERVER': '1', 'DMLC_NUM_WORKER': '1'}\u001b[0m\n",
      "\u001b[34m[06/22/2021 11:45:45 INFO 140524976277312] Environment: {'ENVROOT': '/opt/amazon', 'PROTOCOL_BUFFERS_PYTHON_IMPLEMENTATION': 'cpp', 'HOSTNAME': 'ip-10-2-95-134.ec2.internal', 'TRAINING_JOB_NAME': 'randomcutforest-2021-06-22-11-41-49-152', 'NVIDIA_REQUIRE_CUDA': 'cuda>=9.0', 'TRAINING_JOB_ARN': 'arn:aws:sagemaker:us-east-1:517714493426:training-job/randomcutforest-2021-06-22-11-41-49-152', 'AWS_CONTAINER_CREDENTIALS_RELATIVE_URI': '/v2/credentials/66483e62-f0e5-40b7-9f47-ac0dd1d7bef6', 'CANONICAL_ENVROOT': '/opt/amazon', 'PYTHONUNBUFFERED': 'TRUE', 'NVIDIA_VISIBLE_DEVICES': 'void', 'LD_LIBRARY_PATH': '/opt/amazon/lib/python3.7/site-packages/cv2/../../../../lib:/usr/local/nvidia/lib64:/opt/amazon/lib', 'MXNET_KVSTORE_BIGARRAY_BOUND': '400000000', 'NVIDIA_DRIVER_CAPABILITIES': 'compute,utility', 'AWS_EXECUTION_ENV': 'AWS_ECS_EC2', 'PATH': '/opt/amazon/bin:/usr/local/nvidia/bin:/usr/local/sbin:/usr/local/bin:/usr/sbin:/usr/bin:/sbin:/bin:/opt/amazon/bin:/opt/amazon/bin', 'PWD': '/', 'LANG': 'en_US.utf8', 'AWS_REGION': 'us-east-1', 'SAGEMAKER_METRICS_DIRECTORY': '/opt/ml/output/metrics/sagemaker', 'HOME': '/root', 'SHLVL': '1', 'PROTOCOL_BUFFERS_PYTHON_IMPLEMENTATION_VERSION': '2', 'OMP_NUM_THREADS': '2', 'ECS_CONTAINER_METADATA_URI': 'http://169.254.170.2/v3/ed917917-a91f-4a54-a62b-90210e5cb976', 'DMLC_INTERFACE': 'eth0', 'ECS_CONTAINER_METADATA_URI_V4': 'http://169.254.170.2/v4/ed917917-a91f-4a54-a62b-90210e5cb976', 'SAGEMAKER_HTTP_PORT': '8080', 'SAGEMAKER_DATA_PATH': '/opt/ml', 'KMP_DUPLICATE_LIB_OK': 'True', 'KMP_INIT_AT_FORK': 'FALSE', 'DMLC_ROLE': 'worker', 'DMLC_PS_ROOT_URI': '10.2.95.134', 'DMLC_PS_ROOT_PORT': '9000', 'DMLC_NUM_SERVER': '1', 'DMLC_NUM_WORKER': '1'}\u001b[0m\n",
      "\u001b[34mProcess 33 is a shell:scheduler.\u001b[0m\n",
      "\u001b[34mProcess 45 is a shell:server.\u001b[0m\n",
      "\u001b[34mProcess 1 is a worker.\u001b[0m\n",
      "\u001b[34m[06/22/2021 11:45:45 INFO 140524976277312] Using default worker.\u001b[0m\n",
      "\u001b[34m[06/22/2021 11:45:45 INFO 140524976277312] Loaded iterator creator application/x-recordio-protobuf for content type ('application/x-recordio-protobuf', '1.0')\u001b[0m\n",
      "\u001b[34m[06/22/2021 11:45:45 INFO 140524976277312] Checkpoint loading and saving are disabled.\u001b[0m\n",
      "\u001b[34m[06/22/2021 11:45:45 INFO 140524976277312] Verifying hyperparamemters...\u001b[0m\n",
      "\u001b[34m[I 21-06-22 11:45:45] >>> starting FTP server on 0.0.0.0:8999, pid=1 <<<\u001b[0m\n",
      "\u001b[34m[I 21-06-22 11:45:45] poller: <class 'pyftpdlib.ioloop.Epoll'>\u001b[0m\n",
      "\u001b[34m[I 21-06-22 11:45:45] masquerade (NAT) address: None\u001b[0m\n",
      "\u001b[34m[I 21-06-22 11:45:45] passive ports: None\u001b[0m\n",
      "\u001b[34m[I 21-06-22 11:45:45] use sendfile(2): True\u001b[0m\n",
      "\u001b[34m[06/22/2021 11:45:45 INFO 140524976277312] Hyperparameters are correct.\u001b[0m\n",
      "\u001b[34m[06/22/2021 11:45:45 INFO 140524976277312] Validating that feature_dim agrees with dimensions in training data...\u001b[0m\n",
      "\u001b[34m[06/22/2021 11:45:45 INFO 140524976277312] feature_dim is correct.\u001b[0m\n",
      "\u001b[34m[06/22/2021 11:45:45 INFO 140524976277312] Validating memory limits...\u001b[0m\n",
      "\u001b[34m[06/22/2021 11:45:45 INFO 140524976277312] Available memory in bytes: 15163584512\u001b[0m\n",
      "\u001b[34m[06/22/2021 11:45:45 INFO 140524976277312] Estimated sample size in bytes: 409600\u001b[0m\n",
      "\u001b[34m[06/22/2021 11:45:45 INFO 140524976277312] Estimated memory needed to build the forest in bytes: 1024000\u001b[0m\n",
      "\u001b[34m[06/22/2021 11:45:45 INFO 140524976277312] Memory limits validated.\u001b[0m\n",
      "\u001b[34m[06/22/2021 11:45:45 INFO 140524976277312] Starting cluster sharing facilities...\u001b[0m\n",
      "\u001b[34m[06/22/2021 11:45:45 INFO 140524976277312] Create Store: dist_async\u001b[0m\n",
      "\u001b[34m[06/22/2021 11:45:45 INFO 140523327182592] >>> starting FTP server on 0.0.0.0:8999, pid=1 <<<\u001b[0m\n",
      "\u001b[34m[06/22/2021 11:45:45 INFO 140523327182592] poller: <class 'pyftpdlib.ioloop.Epoll'>\u001b[0m\n",
      "\u001b[34m[06/22/2021 11:45:45 INFO 140523327182592] masquerade (NAT) address: None\u001b[0m\n",
      "\u001b[34m[06/22/2021 11:45:45 INFO 140523327182592] passive ports: None\u001b[0m\n",
      "\u001b[34m[06/22/2021 11:45:45 INFO 140523327182592] use sendfile(2): True\u001b[0m\n",
      "\u001b[34m[06/22/2021 11:45:46 INFO 140524976277312] Cluster sharing facilities started.\u001b[0m\n",
      "\u001b[34m[06/22/2021 11:45:46 INFO 140524976277312] Verifying all workers are accessible...\u001b[0m\n",
      "\u001b[34m[06/22/2021 11:45:46 INFO 140524976277312] All workers accessible.\u001b[0m\n",
      "\u001b[34m[06/22/2021 11:45:46 INFO 140524976277312] Initializing Sampler...\u001b[0m\n",
      "\u001b[34m[06/22/2021 11:45:46 INFO 140524976277312] Sampler correctly initialized.\u001b[0m\n",
      "\u001b[34m#metrics {\"StartTime\": 1624362345.0708077, \"EndTime\": 1624362346.563307, \"Dimensions\": {\"Algorithm\": \"RandomCutForest\", \"Host\": \"algo-1\", \"Operation\": \"training\"}, \"Metrics\": {\"initialize.time\": {\"sum\": 1472.402572631836, \"count\": 1, \"min\": 1472.402572631836, \"max\": 1472.402572631836}}}\n",
      "\u001b[0m\n",
      "\u001b[34m#metrics {\"StartTime\": 1624362346.5635228, \"EndTime\": 1624362346.5635784, \"Dimensions\": {\"Algorithm\": \"RandomCutForest\", \"Host\": \"algo-1\", \"Operation\": \"training\", \"Meta\": \"init_train_data_iter\"}, \"Metrics\": {\"Total Records Seen\": {\"sum\": 0.0, \"count\": 1, \"min\": 0, \"max\": 0}, \"Total Batches Seen\": {\"sum\": 0.0, \"count\": 1, \"min\": 0, \"max\": 0}, \"Max Records Seen Between Resets\": {\"sum\": 0.0, \"count\": 1, \"min\": 0, \"max\": 0}, \"Max Batches Seen Between Resets\": {\"sum\": 0.0, \"count\": 1, \"min\": 0, \"max\": 0}, \"Reset Count\": {\"sum\": 0.0, \"count\": 1, \"min\": 0, \"max\": 0}, \"Number of Records Since Last Reset\": {\"sum\": 0.0, \"count\": 1, \"min\": 0, \"max\": 0}, \"Number of Batches Since Last Reset\": {\"sum\": 0.0, \"count\": 1, \"min\": 0, \"max\": 0}}}\n",
      "\u001b[0m\n",
      "\u001b[34m[2021-06-22 11:45:46.569] [tensorio] [info] epoch_stats={\"data_pipeline\": \"/opt/ml/input/data/train\", \"epoch\": 0, \"duration\": 1497, \"num_examples\": 1, \"num_bytes\": 32000}\u001b[0m\n",
      "\u001b[34m[06/22/2021 11:45:46 INFO 140524976277312] Sampling training data...\u001b[0m\n",
      "\n",
      "2021-06-22 11:46:51 Uploading - Uploading generated training model\n",
      "2021-06-22 11:46:51 Completed - Training job completed\n",
      "\u001b[34m[2021-06-22 11:46:37.333] [tensorio] [info] epoch_stats={\"data_pipeline\": \"/opt/ml/input/data/train\", \"epoch\": 1, \"duration\": 50763, \"num_examples\": 40116, \"num_bytes\": 1283687552}\u001b[0m\n",
      "\u001b[34m[06/22/2021 11:46:37 INFO 140524976277312] Sampling training data completed.\u001b[0m\n",
      "\u001b[34m#metrics {\"StartTime\": 1624362346.5634584, \"EndTime\": 1624362397.3402326, \"Dimensions\": {\"Algorithm\": \"RandomCutForest\", \"Host\": \"algo-1\", \"Operation\": \"training\"}, \"Metrics\": {\"epochs\": {\"sum\": 1.0, \"count\": 1, \"min\": 1, \"max\": 1}, \"update.time\": {\"sum\": 50770.88689804077, \"count\": 1, \"min\": 50770.88689804077, \"max\": 50770.88689804077}}}\n",
      "\u001b[0m\n",
      "\u001b[34m[06/22/2021 11:46:37 INFO 140524976277312] Early stop condition met. Stopping training.\u001b[0m\n",
      "\u001b[34m[06/22/2021 11:46:37 INFO 140524976277312] #progress_metric: host=algo-1, completed 100 % epochs\u001b[0m\n",
      "\u001b[34m#metrics {\"StartTime\": 1624362346.5693088, \"EndTime\": 1624362397.3405957, \"Dimensions\": {\"Algorithm\": \"RandomCutForest\", \"Host\": \"algo-1\", \"Operation\": \"training\", \"epoch\": 0, \"Meta\": \"training_data_iter\"}, \"Metrics\": {\"Total Records Seen\": {\"sum\": 40115236.0, \"count\": 1, \"min\": 40115236, \"max\": 40115236}, \"Total Batches Seen\": {\"sum\": 40116.0, \"count\": 1, \"min\": 40116, \"max\": 40116}, \"Max Records Seen Between Resets\": {\"sum\": 40115236.0, \"count\": 1, \"min\": 40115236, \"max\": 40115236}, \"Max Batches Seen Between Resets\": {\"sum\": 40116.0, \"count\": 1, \"min\": 40116, \"max\": 40116}, \"Reset Count\": {\"sum\": 1.0, \"count\": 1, \"min\": 1, \"max\": 1}, \"Number of Records Since Last Reset\": {\"sum\": 40115236.0, \"count\": 1, \"min\": 40115236, \"max\": 40115236}, \"Number of Batches Since Last Reset\": {\"sum\": 40116.0, \"count\": 1, \"min\": 40116, \"max\": 40116}}}\n",
      "\u001b[0m\n",
      "\u001b[34m[06/22/2021 11:46:37 INFO 140524976277312] #throughput_metric: host=algo-1, train throughput=790112.5469796683 records/second\u001b[0m\n",
      "\u001b[34m[06/22/2021 11:46:37 INFO 140524976277312] Master node: building Random Cut Forest...\u001b[0m\n",
      "\u001b[34m[06/22/2021 11:46:37 INFO 140524976277312] Gathering samples...\u001b[0m\n",
      "\u001b[34m[06/22/2021 11:46:37 INFO 140524976277312] 25600 samples gathered\u001b[0m\n",
      "\u001b[34m[06/22/2021 11:46:37 INFO 140524976277312] Building Random Cut Forest...\u001b[0m\n",
      "\u001b[34m[06/22/2021 11:46:37 INFO 140524976277312] Random Cut Forest built: \n",
      "\u001b[0m\n",
      "\u001b[34mForestInfo{num_trees: 50, num_samples_in_forest: 25600, num_samples_per_tree: 512, sample_dim: 1, shingle_size: 1, trees_num_nodes: [109, 97, 103, 125, 121, 117, 107, 113, 115, 129, 119, 103, 109, 103, 109, 115, 111, 123, 109, 103, 113, 99, 115, 109, 125, 117, 119, 103, 103, 107, 111, 107, 111, 109, 113, 117, 99, 105, 103, 93, 103, 117, 113, 121, 113, 127, 115, 109, 109, 123, ], trees_depth: [16, 17, 16, 15, 17, 17, 14, 14, 15, 13, 15, 16, 15, 14, 18, 14, 15, 13, 13, 17, 17, 15, 15, 18, 14, 15, 15, 16, 17, 15, 17, 17, 14, 16, 21, 15, 13, 18, 15, 12, 17, 13, 13, 20, 18, 12, 13, 19, 15, 15, ], max_num_nodes: 129, min_num_nodes: 93, avg_num_nodes: 111, max_tree_depth: 21, min_tree_depth: 12, avg_tree_depth: 15, mem_size: 579520}\u001b[0m\n",
      "\u001b[34m#metrics {\"StartTime\": 1624362397.3403363, \"EndTime\": 1624362397.3474414, \"Dimensions\": {\"Algorithm\": \"RandomCutForest\", \"Host\": \"algo-1\", \"Operation\": \"training\"}, \"Metrics\": {\"fit_model.time\": {\"sum\": 3.985166549682617, \"count\": 1, \"min\": 3.985166549682617, \"max\": 3.985166549682617}, \"model.bytes\": {\"sum\": 579520.0, \"count\": 1, \"min\": 579520, \"max\": 579520}, \"finalize.time\": {\"sum\": 6.479978561401367, \"count\": 1, \"min\": 6.479978561401367, \"max\": 6.479978561401367}}}\n",
      "\u001b[0m\n",
      "\u001b[34m[06/22/2021 11:46:37 INFO 140524976277312] Master node: Serializing the RandomCutForest model\u001b[0m\n",
      "\u001b[34m#metrics {\"StartTime\": 1624362397.3475256, \"EndTime\": 1624362397.3589926, \"Dimensions\": {\"Algorithm\": \"RandomCutForest\", \"Host\": \"algo-1\", \"Operation\": \"training\"}, \"Metrics\": {\"serialize_model.time\": {\"sum\": 11.41214370727539, \"count\": 1, \"min\": 11.41214370727539, \"max\": 11.41214370727539}}}\n",
      "\u001b[0m\n",
      "\u001b[34m[06/22/2021 11:46:37 INFO 140524976277312] Test data is not provided.\u001b[0m\n",
      "\u001b[34m#metrics {\"StartTime\": 1624362397.3590858, \"EndTime\": 1624362397.359232, \"Dimensions\": {\"Algorithm\": \"RandomCutForest\", \"Host\": \"algo-1\", \"Operation\": \"training\"}, \"Metrics\": {\"setuptime\": {\"sum\": 28.601408004760742, \"count\": 1, \"min\": 28.601408004760742, \"max\": 28.601408004760742}, \"totaltime\": {\"sum\": 52329.68258857727, \"count\": 1, \"min\": 52329.68258857727, \"max\": 52329.68258857727}}}\n",
      "\u001b[0m\n",
      "Training seconds: 144\n",
      "Billable seconds: 144\n"
     ]
    }
   ],
   "source": [
    "from sagemaker import RandomCutForest\n",
    "\n",
    "prefix = 'anomaly'\n",
    "\n",
    "# specify general training job information\n",
    "rcf = RandomCutForest(\n",
    "    role=role,\n",
    "    instance_count=1,\n",
    "    instance_type=\"ml.m4.xlarge\",\n",
    "    data_location=f\"s3://{bucket}/{prefix}/\",\n",
    "    output_path=f\"s3://{bucket}/{prefix}/output\",\n",
    "    num_samples_per_tree=512,\n",
    "    num_trees=50,\n",
    ")\n",
    "\n",
    "#https://sagemaker-examples.readthedocs.io/en/latest/introduction_to_amazon_algorithms/random_cut_forest/random_cut_forest.html\n",
    "X_data = pd.read_pickle('X_train.pkl')\n",
    "\n",
    "rcf.fit(rcf.record_set(X_data.to_numpy().reshape(-1, 1)))"
   ]
  },
  {
   "cell_type": "code",
   "execution_count": 8,
   "id": "89c6e7a2",
   "metadata": {},
   "outputs": [
    {
     "name": "stdout",
     "output_type": "stream",
     "text": [
      "Training job name: randomcutforest-2021-06-22-11-41-49-152\n"
     ]
    }
   ],
   "source": [
    "print(f\"Training job name: {rcf.latest_training_job.job_name}\")"
   ]
  },
  {
   "cell_type": "code",
   "execution_count": 9,
   "id": "b7402537",
   "metadata": {},
   "outputs": [
    {
     "name": "stderr",
     "output_type": "stream",
     "text": [
      "Defaulting to the only supported framework/algorithm version: 1. Ignoring framework/algorithm version: 1.\n"
     ]
    },
    {
     "name": "stdout",
     "output_type": "stream",
     "text": [
      "...............................\u001b[34mDocker entrypoint called with argument(s): serve\u001b[0m\n",
      "\u001b[34mRunning default environment configuration script\u001b[0m\n",
      "\u001b[34m[06/22/2021 11:52:12 INFO 139744339183424] loaded entry point class algorithm.serve.server_config:config_api\u001b[0m\n",
      "\u001b[34m[06/22/2021 11:52:12 INFO 139744339183424] loading entry points\u001b[0m\n",
      "\u001b[34m[06/22/2021 11:52:12 INFO 139744339183424] Loaded iterator creator application/x-recordio-protobuf for content type ('application/x-recordio-protobuf', '1.0')\u001b[0m\n",
      "\u001b[34m[06/22/2021 11:52:12 INFO 139744339183424] loaded request iterator application/json\u001b[0m\n",
      "\u001b[34m[06/22/2021 11:52:12 INFO 139744339183424] loaded request iterator application/jsonlines\u001b[0m\n",
      "\u001b[34m[06/22/2021 11:52:12 INFO 139744339183424] loaded request iterator application/x-recordio-protobuf\u001b[0m\n",
      "\u001b[34m[06/22/2021 11:52:12 INFO 139744339183424] loaded request iterator text/csv\u001b[0m\n",
      "\u001b[34m[06/22/2021 11:52:12 INFO 139744339183424] loaded response encoder application/json\u001b[0m\n",
      "\u001b[34m[06/22/2021 11:52:12 INFO 139744339183424] loaded response encoder application/jsonlines\u001b[0m\n",
      "\u001b[34m[06/22/2021 11:52:12 INFO 139744339183424] loaded response encoder application/x-recordio-protobuf\u001b[0m\n",
      "\u001b[34m[06/22/2021 11:52:12 INFO 139744339183424] loaded response encoder text/csv\u001b[0m\n",
      "\u001b[34m[06/22/2021 11:52:12 INFO 139744339183424] loaded entry point class algorithm:model\u001b[0m\n",
      "\u001b[34m[06/22/2021 11:52:12 INFO 139744339183424] Loaded iterator creator application/x-recordio-protobuf for content type ('application/x-recordio-protobuf', '1.0')\u001b[0m\n",
      "\u001b[34m[06/22/2021 11:52:12 INFO 139744339183424] Number of server workers: 1\u001b[0m\n",
      "\u001b[34m[06/22/2021 11:52:12 INFO 139744339183424] loading model...\u001b[0m\n",
      "\u001b[34m[06/22/2021 11:52:12 INFO 139744339183424] Random Cut Forest model loaded.\n",
      "\u001b[0m\n",
      "\u001b[34mForestInfo{num_trees: 50, num_samples_in_forest: 25600, num_samples_per_tree: 512, sample_dim: 1, shingle_size: 1, trees_num_nodes: [109, 97, 103, 125, 121, 117, 107, 113, 115, 129, 119, 103, 109, 103, 109, 115, 111, 123, 109, 103, 113, 99, 115, 109, 125, 117, 119, 103, 103, 107, 111, 107, 111, 109, 113, 117, 99, 105, 103, 93, 103, 117, 113, 121, 113, 127, 115, 109, 109, 123, ], trees_depth: [16, 17, 16, 15, 17, 17, 14, 14, 15, 13, 15, 16, 15, 14, 18, 14, 15, 13, 13, 17, 17, 15, 15, 18, 14, 15, 15, 16, 17, 15, 17, 17, 14, 16, 21, 15, 13, 18, 15, 12, 17, 13, 13, 20, 18, 12, 13, 19, 15, 15, ], max_num_nodes: 129, min_num_nodes: 93, avg_num_nodes: 111, max_tree_depth: 21, min_tree_depth: 12, avg_tree_depth: 15, mem_size: 579520}\u001b[0m\n",
      "\u001b[34m#metrics {\"StartTime\": 1624362731.7676282, \"EndTime\": 1624362732.2315385, \"Dimensions\": {}, \"Metrics\": {\"model.bytes\": {\"sum\": 579520.0, \"count\": 1, \"min\": 579520, \"max\": 579520}, \"deserialize_model.time\": {\"sum\": 11.327266693115234, \"count\": 1, \"min\": 11.327266693115234, \"max\": 11.327266693115234}}}\n",
      "\u001b[0m\n",
      "\u001b[34m[06/22/2021 11:52:12 INFO 139744339183424] ...model loaded.\u001b[0m\n",
      "\u001b[34m[2021-06-22 11:52:12 +0000] [1] [INFO] Starting gunicorn 20.0.4\u001b[0m\n",
      "\u001b[34m[2021-06-22 11:52:12 +0000] [1] [INFO] Listening at: http://0.0.0.0:8080 (1)\u001b[0m\n",
      "\u001b[34m[2021-06-22 11:52:12 +0000] [1] [INFO] Using worker: sync\u001b[0m\n",
      "\u001b[34m[2021-06-22 11:52:12 +0000] [42] [INFO] Booting worker with pid: 42\u001b[0m\n",
      "\u001b[34m#metrics {\"StartTime\": 1624362732.2318082, \"EndTime\": 1624362733.7605, \"Dimensions\": {\"Algorithm\": \"RandomCutForestModel\", \"Host\": \"UNKNOWN\", \"Operation\": \"scoring\"}, \"Metrics\": {\"execution_parameters.count\": {\"sum\": 1.0, \"count\": 1, \"min\": 1, \"max\": 1}}}\n",
      "\u001b[0m\n",
      "\u001b[32m2021-06-22T11:52:13.767:[sagemaker logs]: MaxConcurrentTransforms=1, MaxPayloadInMB=6, BatchStrategy=MULTI_RECORD\u001b[0m\n",
      "\u001b[34m#metrics {\"StartTime\": 1624362733.7606518, \"EndTime\": 1624362735.2128315, \"Dimensions\": {\"Algorithm\": \"RandomCutForestModel\", \"Host\": \"UNKNOWN\", \"Operation\": \"scoring\"}, \"Metrics\": {\"evaluate.time\": {\"sum\": 2.5687217712402344, \"count\": 1, \"min\": 2.5687217712402344, \"max\": 2.5687217712402344}}}\n",
      "\u001b[0m\n",
      "\u001b[35m#metrics {\"StartTime\": 1624362733.7606518, \"EndTime\": 1624362735.2128315, \"Dimensions\": {\"Algorithm\": \"RandomCutForestModel\", \"Host\": \"UNKNOWN\", \"Operation\": \"scoring\"}, \"Metrics\": {\"evaluate.time\": {\"sum\": 2.5687217712402344, \"count\": 1, \"min\": 2.5687217712402344, \"max\": 2.5687217712402344}}}\n",
      "\u001b[0m\n",
      "\u001b[34m[06/22/2021 11:52:15 ERROR 139744339183424] Customer Error: Feature dimension mismatch: training feature dim is: 1, scoring feature dim is: 116 (caused by ValueError)\n",
      "\u001b[0m\n",
      "\u001b[34mCaused by: Feature dimension mismatch: training feature dim is: 1, scoring feature dim is: 116\u001b[0m\n",
      "\u001b[34m#metrics {\"StartTime\": 1624362735.2129443, \"EndTime\": 1624362735.2147973, \"Dimensions\": {\"Algorithm\": \"RandomCutForestModel\", \"Host\": \"UNKNOWN\", \"Operation\": \"scoring\"}, \"Metrics\": {\"invocations_error.count\": {\"sum\": 1.0, \"count\": 1, \"min\": 1, \"max\": 1}}}\n",
      "\u001b[0m\n",
      "\u001b[35m[06/22/2021 11:52:15 ERROR 139744339183424] Customer Error: Feature dimension mismatch: training feature dim is: 1, scoring feature dim is: 116 (caused by ValueError)\n",
      "\u001b[0m\n",
      "\u001b[35mCaused by: Feature dimension mismatch: training feature dim is: 1, scoring feature dim is: 116\u001b[0m\n",
      "\u001b[35m#metrics {\"StartTime\": 1624362735.2129443, \"EndTime\": 1624362735.2147973, \"Dimensions\": {\"Algorithm\": \"RandomCutForestModel\", \"Host\": \"UNKNOWN\", \"Operation\": \"scoring\"}, \"Metrics\": {\"invocations_error.count\": {\"sum\": 1.0, \"count\": 1, \"min\": 1, \"max\": 1}}}\n",
      "\u001b[0m\n",
      "\u001b[34m#metrics {\"StartTime\": 1624362735.2148554, \"EndTime\": 1624362735.214872, \"Dimensions\": {\"Algorithm\": \"RandomCutForestModel\", \"Host\": \"UNKNOWN\", \"Operation\": \"scoring\"}, \"Metrics\": {\"invocations.count\": {\"sum\": 1.0, \"count\": 1, \"min\": 1, \"max\": 1}}}\n",
      "\u001b[0m\n",
      "\u001b[35m#metrics {\"StartTime\": 1624362735.2148554, \"EndTime\": 1624362735.214872, \"Dimensions\": {\"Algorithm\": \"RandomCutForestModel\", \"Host\": \"UNKNOWN\", \"Operation\": \"scoring\"}, \"Metrics\": {\"invocations.count\": {\"sum\": 1.0, \"count\": 1, \"min\": 1, \"max\": 1}}}\n",
      "\u001b[0m\n",
      "\u001b[32m2021-06-22T11:52:15.222:[sagemaker logs]: sagemaker-us-east-1-517714493426/anomaly/test.csv: ClientError: 400\u001b[0m\n",
      "\u001b[32m2021-06-22T11:52:15.222:[sagemaker logs]: sagemaker-us-east-1-517714493426/anomaly/test.csv: \u001b[0m\n",
      "\u001b[32m2021-06-22T11:52:15.222:[sagemaker logs]: sagemaker-us-east-1-517714493426/anomaly/test.csv: Message:\u001b[0m\n",
      "\u001b[32m2021-06-22T11:52:15.222:[sagemaker logs]: sagemaker-us-east-1-517714493426/anomaly/test.csv: unable to evaluate payload provided\u001b[0m\n",
      "\n"
     ]
    },
    {
     "ename": "UnexpectedStatusException",
     "evalue": "Error for Transform job randomcutforest-2021-06-22-11-47-03-495: Failed. Reason: ClientError: See job logs for more information",
     "output_type": "error",
     "traceback": [
      "\u001b[0;31m---------------------------------------------------------------------------\u001b[0m",
      "\u001b[0;31mUnexpectedStatusException\u001b[0m                 Traceback (most recent call last)",
      "\u001b[0;32m<ipython-input-9-2d25dc3fed64>\u001b[0m in \u001b[0;36m<module>\u001b[0;34m\u001b[0m\n\u001b[1;32m      2\u001b[0m \u001b[0;34m\u001b[0m\u001b[0m\n\u001b[1;32m      3\u001b[0m \u001b[0;31m# TODO: Start the transform job. Make sure to specify the content type and the split type of the test data.\u001b[0m\u001b[0;34m\u001b[0m\u001b[0;34m\u001b[0m\u001b[0;34m\u001b[0m\u001b[0m\n\u001b[0;32m----> 4\u001b[0;31m \u001b[0mrcf_transformer\u001b[0m\u001b[0;34m.\u001b[0m\u001b[0mtransform\u001b[0m\u001b[0;34m(\u001b[0m\u001b[0mtest_location\u001b[0m\u001b[0;34m,\u001b[0m \u001b[0mcontent_type\u001b[0m\u001b[0;34m=\u001b[0m\u001b[0;34m'text/csv'\u001b[0m\u001b[0;34m,\u001b[0m \u001b[0msplit_type\u001b[0m\u001b[0;34m=\u001b[0m\u001b[0;34m'Line'\u001b[0m\u001b[0;34m)\u001b[0m\u001b[0;34m\u001b[0m\u001b[0;34m\u001b[0m\u001b[0m\n\u001b[0m\u001b[1;32m      5\u001b[0m \u001b[0mrcf_transformer\u001b[0m\u001b[0;34m.\u001b[0m\u001b[0mwait\u001b[0m\u001b[0;34m(\u001b[0m\u001b[0;34m)\u001b[0m\u001b[0;34m\u001b[0m\u001b[0;34m\u001b[0m\u001b[0m\n\u001b[1;32m      6\u001b[0m \u001b[0;34m\u001b[0m\u001b[0m\n",
      "\u001b[0;32m~/anaconda3/envs/python3/lib/python3.6/site-packages/sagemaker/transformer.py\u001b[0m in \u001b[0;36mtransform\u001b[0;34m(self, data, data_type, content_type, compression_type, split_type, job_name, input_filter, output_filter, join_source, experiment_config, model_client_config, wait, logs)\u001b[0m\n\u001b[1;32m    216\u001b[0m \u001b[0;34m\u001b[0m\u001b[0m\n\u001b[1;32m    217\u001b[0m         \u001b[0;32mif\u001b[0m \u001b[0mwait\u001b[0m\u001b[0;34m:\u001b[0m\u001b[0;34m\u001b[0m\u001b[0;34m\u001b[0m\u001b[0m\n\u001b[0;32m--> 218\u001b[0;31m             \u001b[0mself\u001b[0m\u001b[0;34m.\u001b[0m\u001b[0mlatest_transform_job\u001b[0m\u001b[0;34m.\u001b[0m\u001b[0mwait\u001b[0m\u001b[0;34m(\u001b[0m\u001b[0mlogs\u001b[0m\u001b[0;34m=\u001b[0m\u001b[0mlogs\u001b[0m\u001b[0;34m)\u001b[0m\u001b[0;34m\u001b[0m\u001b[0;34m\u001b[0m\u001b[0m\n\u001b[0m\u001b[1;32m    219\u001b[0m \u001b[0;34m\u001b[0m\u001b[0m\n\u001b[1;32m    220\u001b[0m     \u001b[0;32mdef\u001b[0m \u001b[0mdelete_model\u001b[0m\u001b[0;34m(\u001b[0m\u001b[0mself\u001b[0m\u001b[0;34m)\u001b[0m\u001b[0;34m:\u001b[0m\u001b[0;34m\u001b[0m\u001b[0;34m\u001b[0m\u001b[0m\n",
      "\u001b[0;32m~/anaconda3/envs/python3/lib/python3.6/site-packages/sagemaker/transformer.py\u001b[0m in \u001b[0;36mwait\u001b[0;34m(self, logs)\u001b[0m\n\u001b[1;32m    412\u001b[0m     \u001b[0;32mdef\u001b[0m \u001b[0mwait\u001b[0m\u001b[0;34m(\u001b[0m\u001b[0mself\u001b[0m\u001b[0;34m,\u001b[0m \u001b[0mlogs\u001b[0m\u001b[0;34m=\u001b[0m\u001b[0;32mTrue\u001b[0m\u001b[0;34m)\u001b[0m\u001b[0;34m:\u001b[0m\u001b[0;34m\u001b[0m\u001b[0;34m\u001b[0m\u001b[0m\n\u001b[1;32m    413\u001b[0m         \u001b[0;32mif\u001b[0m \u001b[0mlogs\u001b[0m\u001b[0;34m:\u001b[0m\u001b[0;34m\u001b[0m\u001b[0;34m\u001b[0m\u001b[0m\n\u001b[0;32m--> 414\u001b[0;31m             \u001b[0mself\u001b[0m\u001b[0;34m.\u001b[0m\u001b[0msagemaker_session\u001b[0m\u001b[0;34m.\u001b[0m\u001b[0mlogs_for_transform_job\u001b[0m\u001b[0;34m(\u001b[0m\u001b[0mself\u001b[0m\u001b[0;34m.\u001b[0m\u001b[0mjob_name\u001b[0m\u001b[0;34m,\u001b[0m \u001b[0mwait\u001b[0m\u001b[0;34m=\u001b[0m\u001b[0;32mTrue\u001b[0m\u001b[0;34m)\u001b[0m\u001b[0;34m\u001b[0m\u001b[0;34m\u001b[0m\u001b[0m\n\u001b[0m\u001b[1;32m    415\u001b[0m         \u001b[0;32melse\u001b[0m\u001b[0;34m:\u001b[0m\u001b[0;34m\u001b[0m\u001b[0;34m\u001b[0m\u001b[0m\n\u001b[1;32m    416\u001b[0m             \u001b[0mself\u001b[0m\u001b[0;34m.\u001b[0m\u001b[0msagemaker_session\u001b[0m\u001b[0;34m.\u001b[0m\u001b[0mwait_for_transform_job\u001b[0m\u001b[0;34m(\u001b[0m\u001b[0mself\u001b[0m\u001b[0;34m.\u001b[0m\u001b[0mjob_name\u001b[0m\u001b[0;34m)\u001b[0m\u001b[0;34m\u001b[0m\u001b[0;34m\u001b[0m\u001b[0m\n",
      "\u001b[0;32m~/anaconda3/envs/python3/lib/python3.6/site-packages/sagemaker/session.py\u001b[0m in \u001b[0;36mlogs_for_transform_job\u001b[0;34m(self, job_name, wait, poll)\u001b[0m\n\u001b[1;32m   3849\u001b[0m \u001b[0;34m\u001b[0m\u001b[0m\n\u001b[1;32m   3850\u001b[0m         \u001b[0;32mif\u001b[0m \u001b[0mwait\u001b[0m\u001b[0;34m:\u001b[0m\u001b[0;34m\u001b[0m\u001b[0;34m\u001b[0m\u001b[0m\n\u001b[0;32m-> 3851\u001b[0;31m             \u001b[0mself\u001b[0m\u001b[0;34m.\u001b[0m\u001b[0m_check_job_status\u001b[0m\u001b[0;34m(\u001b[0m\u001b[0mjob_name\u001b[0m\u001b[0;34m,\u001b[0m \u001b[0mdescription\u001b[0m\u001b[0;34m,\u001b[0m \u001b[0;34m\"TransformJobStatus\"\u001b[0m\u001b[0;34m)\u001b[0m\u001b[0;34m\u001b[0m\u001b[0;34m\u001b[0m\u001b[0m\n\u001b[0m\u001b[1;32m   3852\u001b[0m             \u001b[0;32mif\u001b[0m \u001b[0mdot\u001b[0m\u001b[0;34m:\u001b[0m\u001b[0;34m\u001b[0m\u001b[0;34m\u001b[0m\u001b[0m\n\u001b[1;32m   3853\u001b[0m                 \u001b[0mprint\u001b[0m\u001b[0;34m(\u001b[0m\u001b[0;34m)\u001b[0m\u001b[0;34m\u001b[0m\u001b[0;34m\u001b[0m\u001b[0m\n",
      "\u001b[0;32m~/anaconda3/envs/python3/lib/python3.6/site-packages/sagemaker/session.py\u001b[0m in \u001b[0;36m_check_job_status\u001b[0;34m(self, job, desc, status_key_name)\u001b[0m\n\u001b[1;32m   3243\u001b[0m                 ),\n\u001b[1;32m   3244\u001b[0m                 \u001b[0mallowed_statuses\u001b[0m\u001b[0;34m=\u001b[0m\u001b[0;34m[\u001b[0m\u001b[0;34m\"Completed\"\u001b[0m\u001b[0;34m,\u001b[0m \u001b[0;34m\"Stopped\"\u001b[0m\u001b[0;34m]\u001b[0m\u001b[0;34m,\u001b[0m\u001b[0;34m\u001b[0m\u001b[0;34m\u001b[0m\u001b[0m\n\u001b[0;32m-> 3245\u001b[0;31m                 \u001b[0mactual_status\u001b[0m\u001b[0;34m=\u001b[0m\u001b[0mstatus\u001b[0m\u001b[0;34m,\u001b[0m\u001b[0;34m\u001b[0m\u001b[0;34m\u001b[0m\u001b[0m\n\u001b[0m\u001b[1;32m   3246\u001b[0m             )\n\u001b[1;32m   3247\u001b[0m \u001b[0;34m\u001b[0m\u001b[0m\n",
      "\u001b[0;31mUnexpectedStatusException\u001b[0m: Error for Transform job randomcutforest-2021-06-22-11-47-03-495: Failed. Reason: ClientError: See job logs for more information"
     ]
    }
   ],
   "source": [
    "rcf_transformer = rcf.transformer(instance_count = 1, instance_type = 'ml.m4.xlarge')\n",
    "\n",
    "# TODO: Start the transform job. Make sure to specify the content type and the split type of the test data.\n",
    "rcf_transformer.transform(test_location, content_type='text/csv', split_type='Line')\n",
    "rcf_transformer.wait()\n",
    "\n",
    "# copy result on S3 to local notebook instance\n",
    "!aws s3 cp --recursive $rcf_transformer.output_path $data_dir"
   ]
  },
  {
   "cell_type": "code",
   "execution_count": 11,
   "id": "8e226532",
   "metadata": {},
   "outputs": [
    {
     "name": "stdout",
     "output_type": "stream",
     "text": [
      "X_test shape (74102, 116)\n",
      "X_data shape (345821, 116)\n"
     ]
    }
   ],
   "source": [
    "X_test = pd.read_csv(test_location)\n",
    "print(\"X_test shape {}\".format(X_test.shape))\n",
    "X_test = None\n",
    "print(\"X_data shape {}\".format(X_data.shape))\n"
   ]
  },
  {
   "cell_type": "code",
   "execution_count": null,
   "id": "3551dc1d",
   "metadata": {},
   "outputs": [],
   "source": [
    "#Load S3 Data into AWS SageMaker Notebook\n",
    "\n",
    "#import pandas as pd\n",
    "#\n",
    "#bucket='my-bucket'\n",
    "#data_key = 'train.csv'\n",
    "#data_location = 's3://{}/{}'.format(bucket, data_key)\n",
    "#\n",
    "#pd.read_csv(data_location)"
   ]
  },
  {
   "cell_type": "code",
   "execution_count": null,
   "id": "d2e03628",
   "metadata": {},
   "outputs": [],
   "source": [
    "#rcf_transformer = rcf.transformer(instance_count = 1, instance_type = 'ml.m4.xlarge')\n",
    "#rcf_transformer.transform(test_location, content_type='text/csv', split_type='Line')\n",
    "#rcf_transformer.wait()"
   ]
  },
  {
   "cell_type": "markdown",
   "id": "4f844e45",
   "metadata": {},
   "source": [
    "## Inference "
   ]
  },
  {
   "cell_type": "code",
   "execution_count": null,
   "id": "73b742c6",
   "metadata": {},
   "outputs": [],
   "source": [
    "rcf_inference = rcf.deploy(initial_instance_count=1, instance_type=\"ml.m4.xlarge\")\n",
    "print(f\"Endpoint name: {rcf_inference.endpoint}\")"
   ]
  },
  {
   "cell_type": "code",
   "execution_count": null,
   "id": "04701ee2",
   "metadata": {},
   "outputs": [],
   "source": [
    "# only work vor old sagemaker version\n",
    "#from sagemaker.predictor import csv_serializer\n",
    "#\n",
    "#rcf_inference.content_type = 'text/csv'\n",
    "#rcf_inference.serializer = csv_serializer"
   ]
  },
  {
   "cell_type": "markdown",
   "id": "d7f38ac9",
   "metadata": {},
   "source": [
    "## Data Serialization"
   ]
  },
  {
   "cell_type": "code",
   "execution_count": null,
   "id": "dedab243",
   "metadata": {},
   "outputs": [],
   "source": [
    "from sagemaker.serializers import CSVSerializer\n",
    "from sagemaker.deserializers import JSONDeserializer\n",
    "\n",
    "rcf_inference.serializer = CSVSerializer()\n",
    "rcf_inference.deserializer = JSONDeserializer()"
   ]
  },
  {
   "cell_type": "code",
   "execution_count": null,
   "id": "4c9c4fe7",
   "metadata": {},
   "outputs": [],
   "source": [
    "X_test = pd.read_pickle(\"X_test.pkl\")\n",
    "y_test = pd.read_pickle(\"y_test.pkl\")"
   ]
  },
  {
   "cell_type": "code",
   "execution_count": null,
   "id": "6e946184",
   "metadata": {},
   "outputs": [],
   "source": [
    "X_test.values"
   ]
  },
  {
   "cell_type": "code",
   "execution_count": null,
   "id": "bee92476",
   "metadata": {},
   "outputs": [],
   "source": [
    "#X_test_numpy = X_test.values.to_numpy().reshape(-1, 1)\n",
    "X_test_numpy = X_test.values.reshape(-1, 1)\n",
    "#print(X_test_numpy[:6])\n",
    "results = rcf_inference.predict(\n",
    "    X_test_numpy, initial_args={\"ContentType\": \"text/csv\", \"Accept\": \"application/json\"}\n",
    ")"
   ]
  },
  {
   "cell_type": "markdown",
   "id": "ad285f91",
   "metadata": {},
   "source": [
    "## Predicion & Anomaly Scores"
   ]
  },
  {
   "cell_type": "code",
   "execution_count": null,
   "id": "f5900812",
   "metadata": {},
   "outputs": [],
   "source": [
    "results = rcf_inference.predict(X_test_numpy)\n",
    "scores = [entry[\"score\"] for entry in results[\"scores\"]]\n",
    "\n",
    "# add scores to taxi data frame and print first few values\n",
    "y_test_predict = pd.Series(scores, index=X_test.index)\n",
    "y_test_predict.head()"
   ]
  }
 ],
 "metadata": {
  "kernelspec": {
   "display_name": "conda_python3",
   "language": "python",
   "name": "conda_python3"
  },
  "language_info": {
   "codemirror_mode": {
    "name": "ipython",
    "version": 3
   },
   "file_extension": ".py",
   "mimetype": "text/x-python",
   "name": "python",
   "nbconvert_exporter": "python",
   "pygments_lexer": "ipython3",
   "version": "3.6.13"
  }
 },
 "nbformat": 4,
 "nbformat_minor": 5
}
